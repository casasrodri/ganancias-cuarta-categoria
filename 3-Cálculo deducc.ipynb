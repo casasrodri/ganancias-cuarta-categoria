{
 "cells": [
  {
   "attachments": {},
   "cell_type": "markdown",
   "metadata": {},
   "source": [
    "# Cálculo de deducciones incrementadas de Tramo 1 y Tramo 2"
   ]
  },
  {
   "attachments": {},
   "cell_type": "markdown",
   "metadata": {},
   "source": [
    "## A. Importación de módulos y librerías"
   ]
  },
  {
   "cell_type": "code",
   "execution_count": null,
   "metadata": {},
   "outputs": [],
   "source": [
    "import pandas as pd\n",
    "import numpy as np\n",
    "\n",
    "from remuneraciones.prorrateos import *\n",
    "from parametrizacion.conceptos import ParamConceptos\n",
    "from deducciones.incremental.tablas_tramo2 import *\n",
    "\n",
    "from helpers.bases import tabla\n",
    "from helpers.progressbar import ProgressBar\n",
    "from helpers.dict import unpack\n",
    "\n",
    "from data import CWTR_SUM, DOTACION, CUILES, F572_WEB"
   ]
  },
  {
   "cell_type": "markdown",
   "metadata": {},
   "source": [
    "## B. Parametrización de conceptos"
   ]
  },
  {
   "cell_type": "code",
   "execution_count": null,
   "metadata": {},
   "outputs": [],
   "source": [
    "conceptos = ParamConceptos()\n",
    "conceptos"
   ]
  },
  {
   "attachments": {},
   "cell_type": "markdown",
   "metadata": {},
   "source": [
    "## C. Deducción incrementada Tramo 1"
   ]
  },
  {
   "attachments": {},
   "cell_type": "markdown",
   "metadata": {},
   "source": [
    "### 1. Unión de los orígenes de datos"
   ]
  },
  {
   "attachments": {},
   "cell_type": "markdown",
   "metadata": {},
   "source": [
    "#### CWTR"
   ]
  },
  {
   "cell_type": "code",
   "execution_count": null,
   "metadata": {},
   "outputs": [],
   "source": [
    "cwtr = CWTR_SUM[['legajo', 'CCn', 'mes', 'importe']].copy()\n",
    "cwtr.rename(columns={'CCn': 'codigo'}, inplace=True)\n",
    "\n",
    "cwtr"
   ]
  },
  {
   "attachments": {},
   "cell_type": "markdown",
   "metadata": {},
   "source": [
    "#### Prorrateos"
   ]
  },
  {
   "cell_type": "code",
   "execution_count": null,
   "metadata": {},
   "outputs": [],
   "source": [
    "legajos_meses_tramo1 = tabla('bases_tramos').query('tramo == 1')\n",
    "prorrateados = Prorrateos().prorrateados()\n",
    "\n",
    "prorrateos_aplicables = prorrateados.merge(legajos_meses_tramo1, how='inner', left_on=['legajo', 'mes_pago'], right_on=['legajo', 'mes'])\n",
    "prorrateos = prorrateos_aplicables[['legajo', 'CCn', 'mes_x', 'importe_x']].copy()\n",
    "prorrateos.rename(columns={'CCn': 'codigo', 'mes_x': 'mes', 'importe_x': 'importe'}, inplace=True)\n",
    "\n",
    "prorrateos"
   ]
  },
  {
   "attachments": {},
   "cell_type": "markdown",
   "metadata": {},
   "source": [
    "#### F.572 Web"
   ]
  },
  {
   "cell_type": "code",
   "execution_count": null,
   "metadata": {},
   "outputs": [],
   "source": [
    "f572 = F572_WEB.copy()\n",
    "f572['cuil'] = f572['cuil'].astype('int64')\n",
    "f572 = f572.merge(CUILES, how='left', on='cuil')\n",
    "f572 = f572[['legajo', 'codigo', 'mes', 'importe']]\n",
    "f572.dropna(inplace=True)\n",
    "\n",
    "f572"
   ]
  },
  {
   "attachments": {},
   "cell_type": "markdown",
   "metadata": {},
   "source": [
    "##### Topes aplicables"
   ]
  },
  {
   "cell_type": "code",
   "execution_count": null,
   "metadata": {},
   "outputs": [],
   "source": [
    "deducciones_con_tope = {\n",
    "\n",
    "    'fijo': {\n",
    "        'Q-Deduc-22':\t252_564.84,\n",
    "        'Q-Deduc-24':\t42_921.24,\n",
    "        'Q-Deduc-8':\t252_564.84,\n",
    "        'Q-Deduc-32':\t101_025.94,\n",
    "        'Q-Deduc-4':\t20_000,\n",
    "        'Q-Deduc-23':\t42_921.24,\n",
    "        'Q-Deduc-2':\t42_921.24,\n",
    "    },\n",
    "\n",
    "    'variable': [\n",
    "        'Q-Deduc-1',\n",
    "        'Q-Deduc-3',\n",
    "        'Q-Deduc-7',\n",
    "    ]\n",
    "}\n",
    "\n",
    "\n",
    "cod_tope_fijo = list(deducciones_con_tope['fijo'].keys())\n",
    "cod_tope_var = deducciones_con_tope['variable']\n",
    "\n",
    "cod_tope = cod_tope_fijo.copy()   #extend(cod_tope_var)\n",
    "cod_tope.extend(cod_tope_var)\n",
    "\n",
    "\n",
    "\n",
    "df_topes_fijos = []\n",
    "\n",
    "for cod, tope in deducciones_con_tope['fijo'].items():\n",
    "    df_topes_fijos.append({'codigo': cod, 'tope_anual': tope})\n",
    "\n",
    "df_topes_fijos = pd.DataFrame.from_records(df_topes_fijos)\n",
    "df_topes_fijos"
   ]
  },
  {
   "attachments": {},
   "cell_type": "markdown",
   "metadata": {},
   "source": [
    "##### SIN tope"
   ]
  },
  {
   "cell_type": "code",
   "execution_count": null,
   "metadata": {},
   "outputs": [],
   "source": [
    "f572_sin_tope = f572[~f572['codigo'].isin(cod_tope)]\n"
   ]
  },
  {
   "cell_type": "markdown",
   "metadata": {},
   "source": [
    "##### CON tope (fijo)"
   ]
  },
  {
   "cell_type": "code",
   "execution_count": null,
   "metadata": {},
   "outputs": [],
   "source": [
    "deduc_tope_fijo = f572[f572['codigo'].isin(cod_tope_fijo)]\n",
    "deduc_tope_fijo = deduc_tope_fijo.groupby(['legajo','codigo','mes'])['importe'].sum().reset_index()\n"
   ]
  },
  {
   "cell_type": "code",
   "execution_count": null,
   "metadata": {},
   "outputs": [],
   "source": [
    "df = deduc_tope_fijo.merge(df_topes_fijos, how='left', on='codigo')\n",
    "\n",
    "df['tope_aplicable'] = np.where(df['mes'].eq(13), df['tope_anual'], df['tope_anual'] / 12)\n",
    "\n",
    "df['topeado'] = df[['importe','tope_aplicable']].min(axis=1)\n",
    "df = df[['legajo', 'codigo', 'mes', 'topeado']]\n",
    "f572_tope_fijo = df.rename(columns={'topeado': 'importe'})\n",
    "f572_tope_fijo.to_clipboard()"
   ]
  },
  {
   "attachments": {},
   "cell_type": "markdown",
   "metadata": {},
   "source": [
    "##### CON tope (variable)"
   ]
  },
  {
   "cell_type": "code",
   "execution_count": null,
   "metadata": {},
   "outputs": [],
   "source": [
    "subtotal_conceptos = pd.concat([cwtr, f572_sin_tope, f572_tope_fijo, prorrateos])\n",
    "\n",
    "df = subtotal_conceptos\n",
    "df['legajo'] = df['legajo'].astype('int64')\n",
    "\n",
    "df['Suma'] = np.where(df['codigo'].isin(conceptos.listar('TopeVarDI', '+')), df['importe'], 0)\n",
    "df['Resta'] = np.where(df['codigo'].isin(conceptos.listar('TopeVarDI', '-')), df['importe'], 0)\n",
    "df['GanNetaTope5'] = df['Suma'] - df['Resta']\n",
    "df['tope5'] = df['GanNetaTope5'] * 0.05\n",
    "\n",
    "df = df.groupby(['legajo','mes'])['tope5'].sum().reset_index()\n",
    "df['cero'] = 0\n",
    "df['tope5'] = df[['tope5','cero']].max(axis=1)\n",
    "\n",
    "tope_5_mensual = df[['legajo', 'mes', 'tope5']]\n",
    "tope_5_mensual"
   ]
  },
  {
   "cell_type": "code",
   "execution_count": null,
   "metadata": {},
   "outputs": [],
   "source": [
    "deduc_tope_var = f572[f572['codigo'].isin(cod_tope_var)]\n",
    "\n",
    "deduc_tope_var = deduc_tope_var.merge(tope_5_mensual, how='left', on=['legajo', 'mes'])\n",
    "deduc_tope_var"
   ]
  },
  {
   "cell_type": "code",
   "execution_count": null,
   "metadata": {},
   "outputs": [],
   "source": [
    "df = deduc_tope_var\n",
    "df['topeado'] = df[['importe','tope5']].min(axis=1)\n",
    "df = df[['legajo', 'codigo', 'mes', 'topeado']]\n",
    "f572_tope_variable = df.rename(columns={'topeado': 'importe'})\n",
    "f572_tope_variable"
   ]
  },
  {
   "attachments": {},
   "cell_type": "markdown",
   "metadata": {},
   "source": [
    "#### Deducciones de Ley"
   ]
  },
  {
   "cell_type": "code",
   "execution_count": null,
   "metadata": {},
   "outputs": [],
   "source": [
    "minimo_no_imponible = {\n",
    "    'normal': {\n",
    "        'mni': 252_564.84,\n",
    "        'esp': 1_212_311.24\n",
    "    },\n",
    "    'especial': {\n",
    "        'mni': 308_129.12,\n",
    "        'esp': 1_479_019.72\n",
    "    }\n",
    "}\n",
    "\n",
    "provincias_especiales = [\n",
    "    'Neuquén',\n",
    "    'Chubut',\n",
    "    'Río Negro',\n",
    "    'Santa Cruz',\n",
    "    'La Pampa',\n",
    "]"
   ]
  },
  {
   "cell_type": "code",
   "execution_count": null,
   "metadata": {},
   "outputs": [],
   "source": [
    "from data import CWTR\n",
    "\n",
    "cwtr_provincias = CWTR[['legajo', 'mes', 'provincia']].drop_duplicates().reset_index()\n",
    "\n",
    "prov_dotacion = list(cwtr_provincias['provincia'].unique())\n",
    "\n",
    "for p in provincias_especiales:\n",
    "    if p not in prov_dotacion:\n",
    "        raise NotImplementedError(f'No hay empleados en la provincia: {p}')\n",
    "\n",
    "cwtr_provincias"
   ]
  },
  {
   "cell_type": "code",
   "execution_count": null,
   "metadata": {},
   "outputs": [],
   "source": [
    "deducciones_ley = []\n",
    "\n",
    "for i, row in cwtr_provincias.iterrows():\n",
    "\n",
    "    legajo, mes, provincia = unpack(row, 'legajo', 'mes', 'provincia')\n",
    "\n",
    "    tipo_mni = 'especial' if provincia in provincias_especiales else 'normal'\n",
    "    deducciones = minimo_no_imponible[tipo_mni]\n",
    "\n",
    "    deducciones_ley.append({'legajo': legajo, 'codigo': 'DedLey-MNI', 'mes': mes, 'importe': deducciones['mni'] / 12 })\n",
    "    deducciones_ley.append({'legajo': legajo, 'codigo': 'DedLey-Especial', 'mes': mes, 'importe': deducciones['esp'] / 12 })\n",
    "\n",
    "deducciones_ley = pd.DataFrame.from_records(deducciones_ley)\n",
    "deducciones_ley"
   ]
  },
  {
   "attachments": {},
   "cell_type": "markdown",
   "metadata": {},
   "source": [
    "#### Unión"
   ]
  },
  {
   "cell_type": "code",
   "execution_count": null,
   "metadata": {},
   "outputs": [],
   "source": [
    "total_conceptos = pd.concat([cwtr, f572_sin_tope, f572_tope_fijo, f572_tope_variable, prorrateos, deducciones_ley])\n",
    "total_conceptos"
   ]
  },
  {
   "attachments": {},
   "cell_type": "markdown",
   "metadata": {},
   "source": [
    "### 2. Filtrado de conceptos aplicables"
   ]
  },
  {
   "cell_type": "code",
   "execution_count": null,
   "metadata": {},
   "outputs": [],
   "source": [
    "# Control\n",
    "conceptos_parametrizados = list(conceptos.data['CCn'].unique())\n",
    "\n",
    "for c in list(total_conceptos['codigo'].unique()):\n",
    "    if c not in conceptos_parametrizados:\n",
    "        raise NotImplementedError(f'No se ha definido parametría para el concepto: {c}')"
   ]
  },
  {
   "cell_type": "code",
   "execution_count": null,
   "metadata": {},
   "outputs": [],
   "source": [
    "df = total_conceptos\n",
    "df['legajo'] = df['legajo'].astype('int64')\n",
    "\n",
    "df['Suma'] = np.where(df['codigo'].isin(conceptos.listar('DedIncT1', '+')), df['importe'], 0)\n",
    "df['Resta'] = np.where(df['codigo'].isin(conceptos.listar('DedIncT1', '-')), df['importe'], 0)\n",
    "df['DeduccIncremT1'] = df['Suma'] - df['Resta']\n",
    "\n",
    "# Se filtran cuando sólo sean tramo 1\n",
    "df = df.merge(legajos_meses_tramo1, how='inner', on=['legajo', 'mes'])"
   ]
  },
  {
   "cell_type": "code",
   "execution_count": null,
   "metadata": {},
   "outputs": [],
   "source": [
    "deduc_incr_tramo1_mensual = df.groupby(['legajo','mes'])['DeduccIncremT1'].sum().reset_index()\n",
    "deduc_incr_tramo1_anual = df.groupby(['legajo'])['DeduccIncremT1'].sum().reset_index()\n",
    "\n",
    "deduc_incr_tramo1_mensual.to_excel('prueba.xlsx')"
   ]
  },
  {
   "attachments": {},
   "cell_type": "markdown",
   "metadata": {},
   "source": [
    "## D. Deducción incrementada Tramo 2"
   ]
  },
  {
   "cell_type": "code",
   "execution_count": null,
   "metadata": {},
   "outputs": [],
   "source": [
    "legajos_meses_tramo2 = tabla('bases_tramos').query('tramo == 2')\n",
    "legajos_meses_tramo2"
   ]
  },
  {
   "cell_type": "code",
   "execution_count": null,
   "metadata": {},
   "outputs": [],
   "source": [
    "tabla('tablas_afip_tramo2')"
   ]
  },
  {
   "cell_type": "code",
   "execution_count": null,
   "metadata": {},
   "outputs": [],
   "source": [
    "deducc_tramo2 = []\n",
    "\n",
    "p = ProgressBar(len(legajos_meses_tramo2))\n",
    "for i, row in legajos_meses_tramo2.iterrows():\n",
    "    \n",
    "    legajo, base, mes = unpack(row, 'legajo', 'base_tramo', 'mes')\n",
    "\n",
    "    deduccion = TablasTramo2.deduccion(mes, base)\n",
    "    deducc_tramo2.append({\n",
    "        'legajo':           legajo, \n",
    "        'mes':              mes, \n",
    "        'DeduccIncremT2':   deduccion\n",
    "    })\n",
    "    p.next()\n",
    "\n",
    "deducc_tramo2 = pd.DataFrame.from_records(deducc_tramo2)\n",
    "deducc_tramo2"
   ]
  },
  {
   "attachments": {},
   "cell_type": "markdown",
   "metadata": {},
   "source": [
    "## E. Unificación con base tramos"
   ]
  },
  {
   "cell_type": "code",
   "execution_count": null,
   "metadata": {},
   "outputs": [],
   "source": [
    "con_tramo1 = tabla('bases_tramos').merge(deduc_incr_tramo1_mensual, how='left', on=['legajo', 'mes'])\n",
    "con_tramo2 = con_tramo1.merge(deducc_tramo2, how='left', on=['legajo', 'mes'])"
   ]
  },
  {
   "cell_type": "code",
   "execution_count": null,
   "metadata": {},
   "outputs": [],
   "source": [
    "con_tramo2.to_excel('deducciones_incrementadas.xlsx')"
   ]
  }
 ],
 "metadata": {
  "kernelspec": {
   "display_name": "Python 3",
   "language": "python",
   "name": "python3"
  },
  "language_info": {
   "codemirror_mode": {
    "name": "ipython",
    "version": 3
   },
   "file_extension": ".py",
   "mimetype": "text/x-python",
   "name": "python",
   "nbconvert_exporter": "python",
   "pygments_lexer": "ipython3",
   "version": "3.10.10"
  },
  "orig_nbformat": 4
 },
 "nbformat": 4,
 "nbformat_minor": 2
}
