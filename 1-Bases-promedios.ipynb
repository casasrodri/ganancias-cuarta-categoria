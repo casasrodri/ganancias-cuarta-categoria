{
 "cells": [
  {
   "attachments": {},
   "cell_type": "markdown",
   "metadata": {},
   "source": [
    "# 1. Determinación de bases y promedios para tramos"
   ]
  },
  {
   "attachments": {},
   "cell_type": "markdown",
   "metadata": {},
   "source": [
    "## A. Info a utilizar"
   ]
  },
  {
   "attachments": {},
   "cell_type": "markdown",
   "metadata": {},
   "source": [
    "* CWTR SUM \n",
    "* XML (otro empleador)\n",
    "* Medidas SAP (IT 0)"
   ]
  },
  {
   "attachments": {},
   "cell_type": "markdown",
   "metadata": {},
   "source": [
    "## B. Importes consolidados por mes"
   ]
  },
  {
   "cell_type": "code",
   "execution_count": null,
   "metadata": {},
   "outputs": [],
   "source": [
    "import pandas as pd\n",
    "from data import DOTACION, CUILES, F572_WEB\n",
    "from deducciones.incremental.calculo import *\n",
    "\n",
    "\n",
    "from helpers.dict import unpack\n",
    "from helpers.progressbar import ProgressBar"
   ]
  },
  {
   "cell_type": "code",
   "execution_count": null,
   "metadata": {},
   "outputs": [],
   "source": [
    "#primero tengo que consolidar la info que traigo de SAP (CWTR_SUM) y el XML (ingresos otro empleador)\n",
    "\n",
    "#me traigo la info de la CWTR_SUM ya que esta los tiene agrupados por importe por mes\n",
    "df_rem_mes = []\n",
    "\n",
    "legajos_dotacion = list(DOTACION['legajo'])\n",
    "\n",
    "p = ProgressBar(len(legajos_dotacion) * 12)\n",
    "for legajo in legajos_dotacion:\n",
    "\n",
    "    for m in range(1,13):\n",
    "        restar_prorrateos = DeduccionEspecial.obtener_rem_mes(legajo,m)\n",
    "        df_rem_mes.append({'legajo': legajo, 'mes': m, 'importe': restar_prorrateos})\n",
    "        p.next()\n",
    "\n",
    "df_rem_mes = pd.DataFrame.from_records(df_rem_mes)\n",
    "df_rem_mes"
   ]
  },
  {
   "cell_type": "code",
   "execution_count": null,
   "metadata": {},
   "outputs": [],
   "source": [
    "# dejo las columnas que necesito\n",
    "df_filtrado = F572_WEB.query('codigo == \"Q-OE-ganBrut\"')\n",
    "df_filtrado = df_filtrado[['cuil', 'mes', 'importe']].reset_index(drop=True)\n",
    "\n",
    "#paso la columna cuil a int, ya que si no el cruce me da error\n",
    "df_filtrado[\"cuil\"]=df_filtrado[\"cuil\"].astype(\"int64\")\n",
    "\n",
    "#agrupo por importe los ingresos de otro empleador\n",
    "df_base_OE = df_filtrado.groupby(['cuil','mes'])['importe'].sum().reset_index() \n",
    "df_base_OE"
   ]
  },
  {
   "cell_type": "code",
   "execution_count": null,
   "metadata": {},
   "outputs": [],
   "source": [
    "#como solo tengo el dato del cuil, curzo con el archivo CUILES y me traigo el legajo\n",
    "df_oe_unido = df_base_OE.merge(CUILES, how='left', on='cuil')\n",
    "\n",
    "print(\"[!] Se eliminarán siguientes datos por no ser un CUIL a procesar:\")\n",
    "display(df_oe_unido[df_oe_unido['legajo'].isnull()])\n",
    "\n",
    "df_oe_unido = df_oe_unido[['legajo', 'mes', 'importe']].reset_index(drop=True)\n",
    "\n",
    "#luego de que ya tengo el legajo, concateno con el dataframe de la cwtr y ahora tengo el total de rem por mes\n",
    "df_rem_mes_finales = pd.concat([df_rem_mes, df_oe_unido], ignore_index=True)\n",
    "\n",
    "# Se eliminan aquellos registros de empleados que no están en el listado de cuits:\n",
    "df_rem_mes_finales.dropna(inplace=True)"
   ]
  },
  {
   "cell_type": "code",
   "execution_count": null,
   "metadata": {},
   "outputs": [],
   "source": [
    "# Se unen todos los datos en 1\n",
    "df_rem_mes_finales = df_rem_mes_finales.groupby(['legajo','mes'])['importe'].sum().reset_index() "
   ]
  },
  {
   "attachments": {},
   "cell_type": "markdown",
   "metadata": {},
   "source": [
    "## C. Cálculo de promedios a cada mes "
   ]
  },
  {
   "cell_type": "code",
   "execution_count": null,
   "metadata": {},
   "outputs": [],
   "source": [
    "df_promedios = []\n",
    "p = ProgressBar(len(df_rem_mes_finales))\n",
    "\n",
    "for index, row in df_rem_mes_finales.iterrows():\n",
    "    legajo, mes, importe = unpack(row, 'legajo', 'mes', 'importe')\n",
    "    \n",
    "    norma = DeduccionEspecial.norma_aplicable(mes)\n",
    "    valor_promedio = DeduccionEspecial.obtener_promedio_rem_df(legajo, mes, norma, df_rem_mes_finales)\n",
    "    \n",
    "    base_tramo = min(importe,valor_promedio)\n",
    "    tramo = DeduccionEspecial.obtener_tramo(base_tramo, mes)\n",
    "\n",
    "    df_promedios.append({\n",
    "        'legajo':       legajo,\n",
    "        'mes':          mes,\n",
    "        'importe':      importe,\n",
    "        'promedio':     valor_promedio,\n",
    "        'base_tramo':   base_tramo,\n",
    "        'tramo':        tramo,\n",
    "    })\n",
    "    p.next()\n",
    "\n",
    "df_promedios = pd.DataFrame.from_records(df_promedios)\n",
    "df_promedios"
   ]
  },
  {
   "cell_type": "code",
   "execution_count": null,
   "metadata": {},
   "outputs": [],
   "source": [
    "#lo guardo en un Excel\n",
    "df_promedios.to_excel(\"../bases-ganancias-2022/info/bases_por_mes.xlsx\")"
   ]
  },
  {
   "cell_type": "code",
   "execution_count": null,
   "metadata": {},
   "outputs": [],
   "source": [
    "#se deja la base guardada en middle para despues ser utilizada en otros cálculos \n",
    "df_promedios.to_parquet('../bases-ganancias-2022/middle/bases_tramos.parquet', compression='brotli')"
   ]
  }
 ],
 "metadata": {
  "kernelspec": {
   "display_name": "Python 3",
   "language": "python",
   "name": "python3"
  },
  "language_info": {
   "codemirror_mode": {
    "name": "ipython",
    "version": 3
   },
   "file_extension": ".py",
   "mimetype": "text/x-python",
   "name": "python",
   "nbconvert_exporter": "python",
   "pygments_lexer": "ipython3",
   "version": "3.10.10"
  },
  "orig_nbformat": 4,
  "vscode": {
   "interpreter": {
    "hash": "cf96b071f30a396d8273bc9670241b6b166737f53a0dff988ecce5da7654d899"
   }
  }
 },
 "nbformat": 4,
 "nbformat_minor": 2
}
