{
 "cells": [
  {
   "attachments": {},
   "cell_type": "markdown",
   "metadata": {},
   "source": [
    "## IMPUESTO A LAS GANANCIAS 2022"
   ]
  },
  {
   "cell_type": "code",
   "execution_count": 3,
   "metadata": {},
   "outputs": [],
   "source": [
    "#importo las librerías que voy a utilizar\n",
    "\n",
    "from data import CWTR, CWTR_SUM, DOTACION\n",
    "from deducciones.incremental.calculo import *\n",
    "import empleado as ee"
   ]
  },
  {
   "cell_type": "markdown",
   "metadata": {},
   "source": [
    "### Cálculo del SAC correspondiente a cada semestre"
   ]
  },
  {
   "cell_type": "code",
   "execution_count": 4,
   "metadata": {},
   "outputs": [],
   "source": [
    "#filtro el df que tiene todos los conceptos y dejo solamente el del SAC\n",
    "\n",
    "df1 = CWTR_SUM\n",
    "df_sac = CWTR_SUM\n",
    "df_sac = df_sac[df_sac[\"CCn\"].eq(\"/S02\")]\n",
    "\n",
    "#determino una lista con los meses que corresponden a cada semestre para luego agrupar\n",
    "\n",
    "mes_1er_Sem = [1, 2, 3, 4, 5, 6]\n",
    "mes_2do_Sem = [7, 8, 9, 10, 11, 12]\n",
    "\n",
    "# creo df con el filtro correspondiente a cada semestre\n",
    "\n",
    "df_1erSem = df_sac[df_sac['mes'].isin(mes_1er_Sem)]\n",
    "df_2doSem = df_sac[df_sac['mes'].isin(mes_2do_Sem)]\n",
    "\n",
    "#como tengo varios sac por mes, los agrupo para que me quede uno por cada semestre\n",
    "\n",
    "df_1erSem = df_1erSem.groupby(['legajo','CCn'])['importe'].sum().reset_index() \n",
    "df_2doSem = df_2doSem.groupby(['legajo','CCn'])['importe'].sum().reset_index() \n",
    "\n",
    "#me traigo las remuneraciones para determinar si el SAC queda gravado o exento\n",
    "\n",
    "\n",
    "\n",
    "\n",
    "\n"
   ]
  },
  {
   "cell_type": "code",
   "execution_count": 16,
   "metadata": {},
   "outputs": [
    {
     "data": {
      "text/html": [
       "<div>\n",
       "<style scoped>\n",
       "    .dataframe tbody tr th:only-of-type {\n",
       "        vertical-align: middle;\n",
       "    }\n",
       "\n",
       "    .dataframe tbody tr th {\n",
       "        vertical-align: top;\n",
       "    }\n",
       "\n",
       "    .dataframe thead th {\n",
       "        text-align: right;\n",
       "    }\n",
       "</style>\n",
       "<table border=\"1\" class=\"dataframe\">\n",
       "  <thead>\n",
       "    <tr style=\"text-align: right;\">\n",
       "      <th></th>\n",
       "      <th>legajo</th>\n",
       "      <th>Mes</th>\n",
       "      <th>Importe</th>\n",
       "    </tr>\n",
       "  </thead>\n",
       "  <tbody>\n",
       "    <tr>\n",
       "      <th>0</th>\n",
       "      <td>6000002</td>\n",
       "      <td>1</td>\n",
       "      <td>466593.92</td>\n",
       "    </tr>\n",
       "    <tr>\n",
       "      <th>1</th>\n",
       "      <td>6000002</td>\n",
       "      <td>2</td>\n",
       "      <td>1405581.67</td>\n",
       "    </tr>\n",
       "    <tr>\n",
       "      <th>2</th>\n",
       "      <td>6000002</td>\n",
       "      <td>3</td>\n",
       "      <td>359751.07</td>\n",
       "    </tr>\n",
       "    <tr>\n",
       "      <th>3</th>\n",
       "      <td>6000002</td>\n",
       "      <td>4</td>\n",
       "      <td>363686.19</td>\n",
       "    </tr>\n",
       "    <tr>\n",
       "      <th>4</th>\n",
       "      <td>6000002</td>\n",
       "      <td>5</td>\n",
       "      <td>363361.69</td>\n",
       "    </tr>\n",
       "    <tr>\n",
       "      <th>...</th>\n",
       "      <td>...</td>\n",
       "      <td>...</td>\n",
       "      <td>...</td>\n",
       "    </tr>\n",
       "    <tr>\n",
       "      <th>36787</th>\n",
       "      <td>6114237</td>\n",
       "      <td>8</td>\n",
       "      <td>0.00</td>\n",
       "    </tr>\n",
       "    <tr>\n",
       "      <th>36788</th>\n",
       "      <td>6114237</td>\n",
       "      <td>9</td>\n",
       "      <td>0.00</td>\n",
       "    </tr>\n",
       "    <tr>\n",
       "      <th>36789</th>\n",
       "      <td>6114237</td>\n",
       "      <td>10</td>\n",
       "      <td>0.00</td>\n",
       "    </tr>\n",
       "    <tr>\n",
       "      <th>36790</th>\n",
       "      <td>6114237</td>\n",
       "      <td>11</td>\n",
       "      <td>0.00</td>\n",
       "    </tr>\n",
       "    <tr>\n",
       "      <th>36791</th>\n",
       "      <td>6114237</td>\n",
       "      <td>12</td>\n",
       "      <td>0.00</td>\n",
       "    </tr>\n",
       "  </tbody>\n",
       "</table>\n",
       "<p>36792 rows × 3 columns</p>\n",
       "</div>"
      ],
      "text/plain": [
       "        legajo Mes     Importe\n",
       "0      6000002   1   466593.92\n",
       "1      6000002   2  1405581.67\n",
       "2      6000002   3   359751.07\n",
       "3      6000002   4   363686.19\n",
       "4      6000002   5   363361.69\n",
       "...        ...  ..         ...\n",
       "36787  6114237   8        0.00\n",
       "36788  6114237   9        0.00\n",
       "36789  6114237  10        0.00\n",
       "36790  6114237  11        0.00\n",
       "36791  6114237  12        0.00\n",
       "\n",
       "[36792 rows x 3 columns]"
      ]
     },
     "metadata": {},
     "output_type": "display_data"
    }
   ],
   "source": [
    "# se crea un dataframe acumulativo, usando iterrows\n",
    "df_rem_mes = pd.DataFrame([], columns=[\"legajo\",\"Mes\", \"Importe\"])\n",
    "count = 0\n",
    "for index, row in DOTACION.iterrows():\n",
    "    \n",
    "    # count+=1\n",
    "    # if count == 5:\n",
    "    #     break\n",
    "    legajo = row[\"legajo\"]\n",
    "    \n",
    "    \n",
    "    for m in range(1,13):\n",
    "        rem_mes = DeduccionEspecial.obtener_rem_mes(legajo,m)\n",
    "        datos_emp = [[legajo, m, rem_mes]]\n",
    "        df1 = pd.DataFrame(datos_emp, columns=[\"legajo\",\"Mes\", \"Importe\"])\n",
    "        df_rem_mes = pd.concat([df_rem_mes, df1], ignore_index=True) #guardar en el mismo df, el concatenado de ese df (inicialmente vacío) y el que voy creando con cada iteración. En la segunda iteración va tener ese df mas el nuevo y asi sucesivamente. \n",
    "display(df_rem_mes)"
   ]
  },
  {
   "cell_type": "code",
   "execution_count": 15,
   "metadata": {},
   "outputs": [],
   "source": [
    "df_rem_mes.to_clipboard()"
   ]
  }
 ],
 "metadata": {
  "kernelspec": {
   "display_name": "Python 3",
   "language": "python",
   "name": "python3"
  },
  "language_info": {
   "codemirror_mode": {
    "name": "ipython",
    "version": 3
   },
   "file_extension": ".py",
   "mimetype": "text/x-python",
   "name": "python",
   "nbconvert_exporter": "python",
   "pygments_lexer": "ipython3",
   "version": "3.10.7"
  },
  "orig_nbformat": 4,
  "vscode": {
   "interpreter": {
    "hash": "cf96b071f30a396d8273bc9670241b6b166737f53a0dff988ecce5da7654d899"
   }
  }
 },
 "nbformat": 4,
 "nbformat_minor": 2
}
