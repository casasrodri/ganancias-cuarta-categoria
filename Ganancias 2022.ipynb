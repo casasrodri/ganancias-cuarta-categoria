{
 "cells": [
  {
   "attachments": {},
   "cell_type": "markdown",
   "metadata": {},
   "source": [
    "## IMPUESTO A LAS GANANCIAS 2022"
   ]
  },
  {
   "cell_type": "code",
   "execution_count": 4,
   "metadata": {},
   "outputs": [
    {
     "ename": "FileNotFoundError",
     "evalue": "[Errno 2] No such file or directory: '../bases-ganancias-2022/middle/572web.parquet'",
     "output_type": "error",
     "traceback": [
      "\u001b[1;31m---------------------------------------------------------------------------\u001b[0m",
      "\u001b[1;31mFileNotFoundError\u001b[0m                         Traceback (most recent call last)",
      "\u001b[1;32mc:\\Users\\mgriffa\\OneDrive - Embotelladora Andina\\Escritorio\\Pau\\Ganancias 2022\\calculo-impuesto-ganancias-GIT\\ganancias-cuarta-categoria\\Ganancias 2022.ipynb Cell 2\u001b[0m in \u001b[0;36m<cell line: 3>\u001b[1;34m()\u001b[0m\n\u001b[0;32m      <a href='vscode-notebook-cell:/c%3A/Users/mgriffa/OneDrive%20-%20Embotelladora%20Andina/Escritorio/Pau/Ganancias%202022/calculo-impuesto-ganancias-GIT/ganancias-cuarta-categoria/Ganancias%202022.ipynb#W1sZmlsZQ%3D%3D?line=0'>1</a>\u001b[0m \u001b[39m#importo las librerías que voy a utilizar\u001b[39;00m\n\u001b[1;32m----> <a href='vscode-notebook-cell:/c%3A/Users/mgriffa/OneDrive%20-%20Embotelladora%20Andina/Escritorio/Pau/Ganancias%202022/calculo-impuesto-ganancias-GIT/ganancias-cuarta-categoria/Ganancias%202022.ipynb#W1sZmlsZQ%3D%3D?line=2'>3</a>\u001b[0m \u001b[39mfrom\u001b[39;00m \u001b[39mdata\u001b[39;00m \u001b[39mimport\u001b[39;00m CWTR, CWTR_SUM, DOTACION\n\u001b[0;32m      <a href='vscode-notebook-cell:/c%3A/Users/mgriffa/OneDrive%20-%20Embotelladora%20Andina/Escritorio/Pau/Ganancias%202022/calculo-impuesto-ganancias-GIT/ganancias-cuarta-categoria/Ganancias%202022.ipynb#W1sZmlsZQ%3D%3D?line=3'>4</a>\u001b[0m \u001b[39mfrom\u001b[39;00m \u001b[39mdeducciones\u001b[39;00m\u001b[39m.\u001b[39;00m\u001b[39mincremental\u001b[39;00m\u001b[39m.\u001b[39;00m\u001b[39mcalculo\u001b[39;00m \u001b[39mimport\u001b[39;00m \u001b[39m*\u001b[39m\n\u001b[0;32m      <a href='vscode-notebook-cell:/c%3A/Users/mgriffa/OneDrive%20-%20Embotelladora%20Andina/Escritorio/Pau/Ganancias%202022/calculo-impuesto-ganancias-GIT/ganancias-cuarta-categoria/Ganancias%202022.ipynb#W1sZmlsZQ%3D%3D?line=4'>5</a>\u001b[0m \u001b[39mimport\u001b[39;00m \u001b[39mempleado\u001b[39;00m \u001b[39mas\u001b[39;00m \u001b[39mee\u001b[39;00m\n",
      "File \u001b[1;32mc:\\Users\\mgriffa\\OneDrive - Embotelladora Andina\\Escritorio\\Pau\\Ganancias 2022\\calculo-impuesto-ganancias-GIT\\ganancias-cuarta-categoria\\data.py:6\u001b[0m, in \u001b[0;36m<module>\u001b[1;34m\u001b[0m\n\u001b[0;32m      4\u001b[0m CWTR_SUM \u001b[39m=\u001b[39m tabla(\u001b[39m'\u001b[39m\u001b[39mcwtr_sum\u001b[39m\u001b[39m'\u001b[39m)\n\u001b[0;32m      5\u001b[0m DOTACION \u001b[39m=\u001b[39m tabla(\u001b[39m'\u001b[39m\u001b[39mdotacion\u001b[39m\u001b[39m'\u001b[39m)\n\u001b[1;32m----> 6\u001b[0m F572_WEB \u001b[39m=\u001b[39m tabla(\u001b[39m'\u001b[39;49m\u001b[39m572web\u001b[39;49m\u001b[39m'\u001b[39;49m)\n",
      "File \u001b[1;32mc:\\Users\\mgriffa\\OneDrive - Embotelladora Andina\\Escritorio\\Pau\\Ganancias 2022\\calculo-impuesto-ganancias-GIT\\ganancias-cuarta-categoria\\helpers\\bases.py:3\u001b[0m, in \u001b[0;36mtabla\u001b[1;34m(nombre)\u001b[0m\n\u001b[0;32m      2\u001b[0m \u001b[39mdef\u001b[39;00m \u001b[39mtabla\u001b[39m(nombre):\n\u001b[1;32m----> 3\u001b[0m     \u001b[39mreturn\u001b[39;00m pd\u001b[39m.\u001b[39;49mread_parquet(ruta_tabla(nombre))\n",
      "File \u001b[1;32mc:\\Users\\mgriffa\\AppData\\Local\\Programs\\Python\\Python310\\lib\\site-packages\\pandas\\io\\parquet.py:503\u001b[0m, in \u001b[0;36mread_parquet\u001b[1;34m(path, engine, columns, storage_options, use_nullable_dtypes, **kwargs)\u001b[0m\n\u001b[0;32m    456\u001b[0m \u001b[39m\"\"\"\u001b[39;00m\n\u001b[0;32m    457\u001b[0m \u001b[39mLoad a parquet object from the file path, returning a DataFrame.\u001b[39;00m\n\u001b[0;32m    458\u001b[0m \n\u001b[1;32m   (...)\u001b[0m\n\u001b[0;32m    499\u001b[0m \u001b[39mDataFrame\u001b[39;00m\n\u001b[0;32m    500\u001b[0m \u001b[39m\"\"\"\u001b[39;00m\n\u001b[0;32m    501\u001b[0m impl \u001b[39m=\u001b[39m get_engine(engine)\n\u001b[1;32m--> 503\u001b[0m \u001b[39mreturn\u001b[39;00m impl\u001b[39m.\u001b[39mread(\n\u001b[0;32m    504\u001b[0m     path,\n\u001b[0;32m    505\u001b[0m     columns\u001b[39m=\u001b[39mcolumns,\n\u001b[0;32m    506\u001b[0m     storage_options\u001b[39m=\u001b[39mstorage_options,\n\u001b[0;32m    507\u001b[0m     use_nullable_dtypes\u001b[39m=\u001b[39muse_nullable_dtypes,\n\u001b[0;32m    508\u001b[0m     \u001b[39m*\u001b[39m\u001b[39m*\u001b[39mkwargs,\n\u001b[0;32m    509\u001b[0m )\n",
      "File \u001b[1;32mc:\\Users\\mgriffa\\AppData\\Local\\Programs\\Python\\Python310\\lib\\site-packages\\pandas\\io\\parquet.py:244\u001b[0m, in \u001b[0;36mPyArrowImpl.read\u001b[1;34m(self, path, columns, use_nullable_dtypes, storage_options, **kwargs)\u001b[0m\n\u001b[0;32m    241\u001b[0m \u001b[39mif\u001b[39;00m manager \u001b[39m==\u001b[39m \u001b[39m\"\u001b[39m\u001b[39marray\u001b[39m\u001b[39m\"\u001b[39m:\n\u001b[0;32m    242\u001b[0m     to_pandas_kwargs[\u001b[39m\"\u001b[39m\u001b[39msplit_blocks\u001b[39m\u001b[39m\"\u001b[39m] \u001b[39m=\u001b[39m \u001b[39mTrue\u001b[39;00m  \u001b[39m# type: ignore[assignment]\u001b[39;00m\n\u001b[1;32m--> 244\u001b[0m path_or_handle, handles, kwargs[\u001b[39m\"\u001b[39m\u001b[39mfilesystem\u001b[39m\u001b[39m\"\u001b[39m] \u001b[39m=\u001b[39m _get_path_or_handle(\n\u001b[0;32m    245\u001b[0m     path,\n\u001b[0;32m    246\u001b[0m     kwargs\u001b[39m.\u001b[39;49mpop(\u001b[39m\"\u001b[39;49m\u001b[39mfilesystem\u001b[39;49m\u001b[39m\"\u001b[39;49m, \u001b[39mNone\u001b[39;49;00m),\n\u001b[0;32m    247\u001b[0m     storage_options\u001b[39m=\u001b[39;49mstorage_options,\n\u001b[0;32m    248\u001b[0m     mode\u001b[39m=\u001b[39;49m\u001b[39m\"\u001b[39;49m\u001b[39mrb\u001b[39;49m\u001b[39m\"\u001b[39;49m,\n\u001b[0;32m    249\u001b[0m )\n\u001b[0;32m    250\u001b[0m \u001b[39mtry\u001b[39;00m:\n\u001b[0;32m    251\u001b[0m     result \u001b[39m=\u001b[39m \u001b[39mself\u001b[39m\u001b[39m.\u001b[39mapi\u001b[39m.\u001b[39mparquet\u001b[39m.\u001b[39mread_table(\n\u001b[0;32m    252\u001b[0m         path_or_handle, columns\u001b[39m=\u001b[39mcolumns, \u001b[39m*\u001b[39m\u001b[39m*\u001b[39mkwargs\n\u001b[0;32m    253\u001b[0m     )\u001b[39m.\u001b[39mto_pandas(\u001b[39m*\u001b[39m\u001b[39m*\u001b[39mto_pandas_kwargs)\n",
      "File \u001b[1;32mc:\\Users\\mgriffa\\AppData\\Local\\Programs\\Python\\Python310\\lib\\site-packages\\pandas\\io\\parquet.py:102\u001b[0m, in \u001b[0;36m_get_path_or_handle\u001b[1;34m(path, fs, storage_options, mode, is_dir)\u001b[0m\n\u001b[0;32m     92\u001b[0m handles \u001b[39m=\u001b[39m \u001b[39mNone\u001b[39;00m\n\u001b[0;32m     93\u001b[0m \u001b[39mif\u001b[39;00m (\n\u001b[0;32m     94\u001b[0m     \u001b[39mnot\u001b[39;00m fs\n\u001b[0;32m     95\u001b[0m     \u001b[39mand\u001b[39;00m \u001b[39mnot\u001b[39;00m is_dir\n\u001b[1;32m   (...)\u001b[0m\n\u001b[0;32m    100\u001b[0m     \u001b[39m# fsspec resources can also point to directories\u001b[39;00m\n\u001b[0;32m    101\u001b[0m     \u001b[39m# this branch is used for example when reading from non-fsspec URLs\u001b[39;00m\n\u001b[1;32m--> 102\u001b[0m     handles \u001b[39m=\u001b[39m get_handle(\n\u001b[0;32m    103\u001b[0m         path_or_handle, mode, is_text\u001b[39m=\u001b[39;49m\u001b[39mFalse\u001b[39;49;00m, storage_options\u001b[39m=\u001b[39;49mstorage_options\n\u001b[0;32m    104\u001b[0m     )\n\u001b[0;32m    105\u001b[0m     fs \u001b[39m=\u001b[39m \u001b[39mNone\u001b[39;00m\n\u001b[0;32m    106\u001b[0m     path_or_handle \u001b[39m=\u001b[39m handles\u001b[39m.\u001b[39mhandle\n",
      "File \u001b[1;32mc:\\Users\\mgriffa\\AppData\\Local\\Programs\\Python\\Python310\\lib\\site-packages\\pandas\\io\\common.py:865\u001b[0m, in \u001b[0;36mget_handle\u001b[1;34m(path_or_buf, mode, encoding, compression, memory_map, is_text, errors, storage_options)\u001b[0m\n\u001b[0;32m    856\u001b[0m         handle \u001b[39m=\u001b[39m \u001b[39mopen\u001b[39m(\n\u001b[0;32m    857\u001b[0m             handle,\n\u001b[0;32m    858\u001b[0m             ioargs\u001b[39m.\u001b[39mmode,\n\u001b[1;32m   (...)\u001b[0m\n\u001b[0;32m    861\u001b[0m             newline\u001b[39m=\u001b[39m\u001b[39m\"\u001b[39m\u001b[39m\"\u001b[39m,\n\u001b[0;32m    862\u001b[0m         )\n\u001b[0;32m    863\u001b[0m     \u001b[39melse\u001b[39;00m:\n\u001b[0;32m    864\u001b[0m         \u001b[39m# Binary mode\u001b[39;00m\n\u001b[1;32m--> 865\u001b[0m         handle \u001b[39m=\u001b[39m \u001b[39mopen\u001b[39;49m(handle, ioargs\u001b[39m.\u001b[39;49mmode)\n\u001b[0;32m    866\u001b[0m     handles\u001b[39m.\u001b[39mappend(handle)\n\u001b[0;32m    868\u001b[0m \u001b[39m# Convert BytesIO or file objects passed with an encoding\u001b[39;00m\n",
      "\u001b[1;31mFileNotFoundError\u001b[0m: [Errno 2] No such file or directory: '../bases-ganancias-2022/middle/572web.parquet'"
     ]
    }
   ],
   "source": [
    "#importo las librerías que voy a utilizar\n",
    "\n",
    "from data import CWTR, CWTR_SUM, DOTACION\n",
    "from deducciones.incremental.calculo import *\n",
    "import empleado as ee\n",
    "import pandas as pd"
   ]
  },
  {
   "cell_type": "markdown",
   "metadata": {},
   "source": [
    "### Cálculo del SAC correspondiente a cada semestre"
   ]
  },
  {
   "cell_type": "code",
   "execution_count": 3,
   "metadata": {},
   "outputs": [
    {
     "ename": "NameError",
     "evalue": "name 'CWTR_SUM' is not defined",
     "output_type": "error",
     "traceback": [
      "\u001b[1;31m---------------------------------------------------------------------------\u001b[0m",
      "\u001b[1;31mNameError\u001b[0m                                 Traceback (most recent call last)",
      "\u001b[1;32mc:\\Users\\mgriffa\\OneDrive - Embotelladora Andina\\Escritorio\\Pau\\Ganancias 2022\\calculo-impuesto-ganancias-GIT\\ganancias-cuarta-categoria\\Ganancias 2022.ipynb Cell 4\u001b[0m in \u001b[0;36m<cell line: 3>\u001b[1;34m()\u001b[0m\n\u001b[0;32m      <a href='vscode-notebook-cell:/c%3A/Users/mgriffa/OneDrive%20-%20Embotelladora%20Andina/Escritorio/Pau/Ganancias%202022/calculo-impuesto-ganancias-GIT/ganancias-cuarta-categoria/Ganancias%202022.ipynb#W3sZmlsZQ%3D%3D?line=0'>1</a>\u001b[0m \u001b[39m#filtro el df que tiene todos los conceptos y dejo solamente el del SAC\u001b[39;00m\n\u001b[1;32m----> <a href='vscode-notebook-cell:/c%3A/Users/mgriffa/OneDrive%20-%20Embotelladora%20Andina/Escritorio/Pau/Ganancias%202022/calculo-impuesto-ganancias-GIT/ganancias-cuarta-categoria/Ganancias%202022.ipynb#W3sZmlsZQ%3D%3D?line=2'>3</a>\u001b[0m df1 \u001b[39m=\u001b[39m CWTR_SUM\n\u001b[0;32m      <a href='vscode-notebook-cell:/c%3A/Users/mgriffa/OneDrive%20-%20Embotelladora%20Andina/Escritorio/Pau/Ganancias%202022/calculo-impuesto-ganancias-GIT/ganancias-cuarta-categoria/Ganancias%202022.ipynb#W3sZmlsZQ%3D%3D?line=3'>4</a>\u001b[0m df_sac \u001b[39m=\u001b[39m CWTR_SUM\n\u001b[0;32m      <a href='vscode-notebook-cell:/c%3A/Users/mgriffa/OneDrive%20-%20Embotelladora%20Andina/Escritorio/Pau/Ganancias%202022/calculo-impuesto-ganancias-GIT/ganancias-cuarta-categoria/Ganancias%202022.ipynb#W3sZmlsZQ%3D%3D?line=4'>5</a>\u001b[0m df_sac \u001b[39m=\u001b[39m df_sac[df_sac[\u001b[39m\"\u001b[39m\u001b[39mCCn\u001b[39m\u001b[39m\"\u001b[39m]\u001b[39m.\u001b[39meq(\u001b[39m\"\u001b[39m\u001b[39m/S02\u001b[39m\u001b[39m\"\u001b[39m)]\n",
      "\u001b[1;31mNameError\u001b[0m: name 'CWTR_SUM' is not defined"
     ]
    }
   ],
   "source": [
    "#filtro el df que tiene todos los conceptos y dejo solamente el del SAC\n",
    "\n",
    "df1 = CWTR_SUM\n",
    "df_sac = CWTR_SUM\n",
    "df_sac = df_sac[df_sac[\"CCn\"].eq(\"/S02\")]\n",
    "\n",
    "#determino una lista con los meses que corresponden a cada semestre para luego agrupar\n",
    "\n",
    "mes_1er_Sem = [1, 2, 3, 4, 5, 6]\n",
    "mes_2do_Sem = [7, 8, 9, 10, 11, 12]\n",
    "\n",
    "# creo df con el filtro correspondiente a cada semestre\n",
    "\n",
    "df_1erSem = df_sac[df_sac['mes'].isin(mes_1er_Sem)]\n",
    "df_2doSem = df_sac[df_sac['mes'].isin(mes_2do_Sem)]\n",
    "\n",
    "#como tengo varios sac por mes, los agrupo para que me quede uno por cada semestre\n",
    "\n",
    "df_1erSem = df_1erSem.groupby(['legajo','CCn'])['importe'].sum().reset_index() \n",
    "df_2doSem = df_2doSem.groupby(['legajo','CCn'])['importe'].sum().reset_index() \n",
    "\n",
    "#me traigo las remuneraciones para determinar si el SAC queda gravado o exento\n",
    "\n",
    "\n",
    "\n",
    "\n",
    "\n"
   ]
  },
  {
   "cell_type": "code",
   "execution_count": 7,
   "metadata": {},
   "outputs": [
    {
     "data": {
      "text/html": [
       "<div>\n",
       "<style scoped>\n",
       "    .dataframe tbody tr th:only-of-type {\n",
       "        vertical-align: middle;\n",
       "    }\n",
       "\n",
       "    .dataframe tbody tr th {\n",
       "        vertical-align: top;\n",
       "    }\n",
       "\n",
       "    .dataframe thead th {\n",
       "        text-align: right;\n",
       "    }\n",
       "</style>\n",
       "<table border=\"1\" class=\"dataframe\">\n",
       "  <thead>\n",
       "    <tr style=\"text-align: right;\">\n",
       "      <th></th>\n",
       "      <th>legajo</th>\n",
       "      <th>Mes</th>\n",
       "      <th>Importe</th>\n",
       "    </tr>\n",
       "  </thead>\n",
       "  <tbody>\n",
       "    <tr>\n",
       "      <th>0</th>\n",
       "      <td>6000002</td>\n",
       "      <td>1</td>\n",
       "      <td>466593.92</td>\n",
       "    </tr>\n",
       "    <tr>\n",
       "      <th>1</th>\n",
       "      <td>6000002</td>\n",
       "      <td>2</td>\n",
       "      <td>1405581.67</td>\n",
       "    </tr>\n",
       "    <tr>\n",
       "      <th>2</th>\n",
       "      <td>6000002</td>\n",
       "      <td>3</td>\n",
       "      <td>359751.07</td>\n",
       "    </tr>\n",
       "    <tr>\n",
       "      <th>3</th>\n",
       "      <td>6000002</td>\n",
       "      <td>4</td>\n",
       "      <td>363686.19</td>\n",
       "    </tr>\n",
       "    <tr>\n",
       "      <th>4</th>\n",
       "      <td>6000002</td>\n",
       "      <td>5</td>\n",
       "      <td>363361.69</td>\n",
       "    </tr>\n",
       "    <tr>\n",
       "      <th>...</th>\n",
       "      <td>...</td>\n",
       "      <td>...</td>\n",
       "      <td>...</td>\n",
       "    </tr>\n",
       "    <tr>\n",
       "      <th>36787</th>\n",
       "      <td>6114237</td>\n",
       "      <td>8</td>\n",
       "      <td>0.00</td>\n",
       "    </tr>\n",
       "    <tr>\n",
       "      <th>36788</th>\n",
       "      <td>6114237</td>\n",
       "      <td>9</td>\n",
       "      <td>0.00</td>\n",
       "    </tr>\n",
       "    <tr>\n",
       "      <th>36789</th>\n",
       "      <td>6114237</td>\n",
       "      <td>10</td>\n",
       "      <td>0.00</td>\n",
       "    </tr>\n",
       "    <tr>\n",
       "      <th>36790</th>\n",
       "      <td>6114237</td>\n",
       "      <td>11</td>\n",
       "      <td>0.00</td>\n",
       "    </tr>\n",
       "    <tr>\n",
       "      <th>36791</th>\n",
       "      <td>6114237</td>\n",
       "      <td>12</td>\n",
       "      <td>0.00</td>\n",
       "    </tr>\n",
       "  </tbody>\n",
       "</table>\n",
       "<p>36792 rows × 3 columns</p>\n",
       "</div>"
      ],
      "text/plain": [
       "        legajo Mes     Importe\n",
       "0      6000002   1   466593.92\n",
       "1      6000002   2  1405581.67\n",
       "2      6000002   3   359751.07\n",
       "3      6000002   4   363686.19\n",
       "4      6000002   5   363361.69\n",
       "...        ...  ..         ...\n",
       "36787  6114237   8        0.00\n",
       "36788  6114237   9        0.00\n",
       "36789  6114237  10        0.00\n",
       "36790  6114237  11        0.00\n",
       "36791  6114237  12        0.00\n",
       "\n",
       "[36792 rows x 3 columns]"
      ]
     },
     "metadata": {},
     "output_type": "display_data"
    },
    {
     "ename": "FileNotFoundError",
     "evalue": "[Errno 2] No such file or directory: '../572 web/572web.parquet'",
     "output_type": "error",
     "traceback": [
      "\u001b[1;31m---------------------------------------------------------------------------\u001b[0m",
      "\u001b[1;31mFileNotFoundError\u001b[0m                         Traceback (most recent call last)",
      "\u001b[1;32mc:\\Users\\mgriffa\\OneDrive - Embotelladora Andina\\Escritorio\\Pau\\Ganancias 2022\\calculo-impuesto-ganancias-GIT\\ganancias-cuarta-categoria\\Ganancias 2022.ipynb Cell 5\u001b[0m in \u001b[0;36m<cell line: 20>\u001b[1;34m()\u001b[0m\n\u001b[0;32m     <a href='vscode-notebook-cell:/c%3A/Users/mgriffa/OneDrive%20-%20Embotelladora%20Andina/Escritorio/Pau/Ganancias%202022/calculo-impuesto-ganancias-GIT/ganancias-cuarta-categoria/Ganancias%202022.ipynb#W4sZmlsZQ%3D%3D?line=15'>16</a>\u001b[0m         df_rem_mes \u001b[39m=\u001b[39m pd\u001b[39m.\u001b[39mconcat([df_rem_mes, df1], ignore_index\u001b[39m=\u001b[39m\u001b[39mTrue\u001b[39;00m) \u001b[39m#guardar en el mismo df, el concatenado de ese df (inicialmente vacío) y el que voy creando con cada iteración. En la segunda iteración va tener ese df mas el nuevo y asi sucesivamente. \u001b[39;00m\n\u001b[0;32m     <a href='vscode-notebook-cell:/c%3A/Users/mgriffa/OneDrive%20-%20Embotelladora%20Andina/Escritorio/Pau/Ganancias%202022/calculo-impuesto-ganancias-GIT/ganancias-cuarta-categoria/Ganancias%202022.ipynb#W4sZmlsZQ%3D%3D?line=16'>17</a>\u001b[0m display(df_rem_mes)\n\u001b[1;32m---> <a href='vscode-notebook-cell:/c%3A/Users/mgriffa/OneDrive%20-%20Embotelladora%20Andina/Escritorio/Pau/Ganancias%202022/calculo-impuesto-ganancias-GIT/ganancias-cuarta-categoria/Ganancias%202022.ipynb#W4sZmlsZQ%3D%3D?line=19'>20</a>\u001b[0m pd\u001b[39m.\u001b[39;49mread_parquet(\u001b[39m'\u001b[39;49m\u001b[39m../572 web/572web.parquet\u001b[39;49m\u001b[39m'\u001b[39;49m)\n",
      "File \u001b[1;32mc:\\Users\\mgriffa\\AppData\\Local\\Programs\\Python\\Python310\\lib\\site-packages\\pandas\\io\\parquet.py:503\u001b[0m, in \u001b[0;36mread_parquet\u001b[1;34m(path, engine, columns, storage_options, use_nullable_dtypes, **kwargs)\u001b[0m\n\u001b[0;32m    456\u001b[0m \u001b[39m\"\"\"\u001b[39;00m\n\u001b[0;32m    457\u001b[0m \u001b[39mLoad a parquet object from the file path, returning a DataFrame.\u001b[39;00m\n\u001b[0;32m    458\u001b[0m \n\u001b[1;32m   (...)\u001b[0m\n\u001b[0;32m    499\u001b[0m \u001b[39mDataFrame\u001b[39;00m\n\u001b[0;32m    500\u001b[0m \u001b[39m\"\"\"\u001b[39;00m\n\u001b[0;32m    501\u001b[0m impl \u001b[39m=\u001b[39m get_engine(engine)\n\u001b[1;32m--> 503\u001b[0m \u001b[39mreturn\u001b[39;00m impl\u001b[39m.\u001b[39mread(\n\u001b[0;32m    504\u001b[0m     path,\n\u001b[0;32m    505\u001b[0m     columns\u001b[39m=\u001b[39mcolumns,\n\u001b[0;32m    506\u001b[0m     storage_options\u001b[39m=\u001b[39mstorage_options,\n\u001b[0;32m    507\u001b[0m     use_nullable_dtypes\u001b[39m=\u001b[39muse_nullable_dtypes,\n\u001b[0;32m    508\u001b[0m     \u001b[39m*\u001b[39m\u001b[39m*\u001b[39mkwargs,\n\u001b[0;32m    509\u001b[0m )\n",
      "File \u001b[1;32mc:\\Users\\mgriffa\\AppData\\Local\\Programs\\Python\\Python310\\lib\\site-packages\\pandas\\io\\parquet.py:244\u001b[0m, in \u001b[0;36mPyArrowImpl.read\u001b[1;34m(self, path, columns, use_nullable_dtypes, storage_options, **kwargs)\u001b[0m\n\u001b[0;32m    241\u001b[0m \u001b[39mif\u001b[39;00m manager \u001b[39m==\u001b[39m \u001b[39m\"\u001b[39m\u001b[39marray\u001b[39m\u001b[39m\"\u001b[39m:\n\u001b[0;32m    242\u001b[0m     to_pandas_kwargs[\u001b[39m\"\u001b[39m\u001b[39msplit_blocks\u001b[39m\u001b[39m\"\u001b[39m] \u001b[39m=\u001b[39m \u001b[39mTrue\u001b[39;00m  \u001b[39m# type: ignore[assignment]\u001b[39;00m\n\u001b[1;32m--> 244\u001b[0m path_or_handle, handles, kwargs[\u001b[39m\"\u001b[39m\u001b[39mfilesystem\u001b[39m\u001b[39m\"\u001b[39m] \u001b[39m=\u001b[39m _get_path_or_handle(\n\u001b[0;32m    245\u001b[0m     path,\n\u001b[0;32m    246\u001b[0m     kwargs\u001b[39m.\u001b[39;49mpop(\u001b[39m\"\u001b[39;49m\u001b[39mfilesystem\u001b[39;49m\u001b[39m\"\u001b[39;49m, \u001b[39mNone\u001b[39;49;00m),\n\u001b[0;32m    247\u001b[0m     storage_options\u001b[39m=\u001b[39;49mstorage_options,\n\u001b[0;32m    248\u001b[0m     mode\u001b[39m=\u001b[39;49m\u001b[39m\"\u001b[39;49m\u001b[39mrb\u001b[39;49m\u001b[39m\"\u001b[39;49m,\n\u001b[0;32m    249\u001b[0m )\n\u001b[0;32m    250\u001b[0m \u001b[39mtry\u001b[39;00m:\n\u001b[0;32m    251\u001b[0m     result \u001b[39m=\u001b[39m \u001b[39mself\u001b[39m\u001b[39m.\u001b[39mapi\u001b[39m.\u001b[39mparquet\u001b[39m.\u001b[39mread_table(\n\u001b[0;32m    252\u001b[0m         path_or_handle, columns\u001b[39m=\u001b[39mcolumns, \u001b[39m*\u001b[39m\u001b[39m*\u001b[39mkwargs\n\u001b[0;32m    253\u001b[0m     )\u001b[39m.\u001b[39mto_pandas(\u001b[39m*\u001b[39m\u001b[39m*\u001b[39mto_pandas_kwargs)\n",
      "File \u001b[1;32mc:\\Users\\mgriffa\\AppData\\Local\\Programs\\Python\\Python310\\lib\\site-packages\\pandas\\io\\parquet.py:102\u001b[0m, in \u001b[0;36m_get_path_or_handle\u001b[1;34m(path, fs, storage_options, mode, is_dir)\u001b[0m\n\u001b[0;32m     92\u001b[0m handles \u001b[39m=\u001b[39m \u001b[39mNone\u001b[39;00m\n\u001b[0;32m     93\u001b[0m \u001b[39mif\u001b[39;00m (\n\u001b[0;32m     94\u001b[0m     \u001b[39mnot\u001b[39;00m fs\n\u001b[0;32m     95\u001b[0m     \u001b[39mand\u001b[39;00m \u001b[39mnot\u001b[39;00m is_dir\n\u001b[1;32m   (...)\u001b[0m\n\u001b[0;32m    100\u001b[0m     \u001b[39m# fsspec resources can also point to directories\u001b[39;00m\n\u001b[0;32m    101\u001b[0m     \u001b[39m# this branch is used for example when reading from non-fsspec URLs\u001b[39;00m\n\u001b[1;32m--> 102\u001b[0m     handles \u001b[39m=\u001b[39m get_handle(\n\u001b[0;32m    103\u001b[0m         path_or_handle, mode, is_text\u001b[39m=\u001b[39;49m\u001b[39mFalse\u001b[39;49;00m, storage_options\u001b[39m=\u001b[39;49mstorage_options\n\u001b[0;32m    104\u001b[0m     )\n\u001b[0;32m    105\u001b[0m     fs \u001b[39m=\u001b[39m \u001b[39mNone\u001b[39;00m\n\u001b[0;32m    106\u001b[0m     path_or_handle \u001b[39m=\u001b[39m handles\u001b[39m.\u001b[39mhandle\n",
      "File \u001b[1;32mc:\\Users\\mgriffa\\AppData\\Local\\Programs\\Python\\Python310\\lib\\site-packages\\pandas\\io\\common.py:865\u001b[0m, in \u001b[0;36mget_handle\u001b[1;34m(path_or_buf, mode, encoding, compression, memory_map, is_text, errors, storage_options)\u001b[0m\n\u001b[0;32m    856\u001b[0m         handle \u001b[39m=\u001b[39m \u001b[39mopen\u001b[39m(\n\u001b[0;32m    857\u001b[0m             handle,\n\u001b[0;32m    858\u001b[0m             ioargs\u001b[39m.\u001b[39mmode,\n\u001b[1;32m   (...)\u001b[0m\n\u001b[0;32m    861\u001b[0m             newline\u001b[39m=\u001b[39m\u001b[39m\"\u001b[39m\u001b[39m\"\u001b[39m,\n\u001b[0;32m    862\u001b[0m         )\n\u001b[0;32m    863\u001b[0m     \u001b[39melse\u001b[39;00m:\n\u001b[0;32m    864\u001b[0m         \u001b[39m# Binary mode\u001b[39;00m\n\u001b[1;32m--> 865\u001b[0m         handle \u001b[39m=\u001b[39m \u001b[39mopen\u001b[39;49m(handle, ioargs\u001b[39m.\u001b[39;49mmode)\n\u001b[0;32m    866\u001b[0m     handles\u001b[39m.\u001b[39mappend(handle)\n\u001b[0;32m    868\u001b[0m \u001b[39m# Convert BytesIO or file objects passed with an encoding\u001b[39;00m\n",
      "\u001b[1;31mFileNotFoundError\u001b[0m: [Errno 2] No such file or directory: '../572 web/572web.parquet'"
     ]
    }
   ],
   "source": [
    "# se crea un dataframe acumulativo, usando iterrows\n",
    "df_rem_mes = pd.DataFrame([], columns=[\"legajo\",\"Mes\", \"Importe\"])\n",
    "count = 0\n",
    "for index, row in DOTACION.iterrows():\n",
    "    \n",
    "    # count+=1\n",
    "    # if count == 5:\n",
    "    #     break\n",
    "    legajo = row[\"legajo\"]\n",
    "    \n",
    "    \n",
    "    for m in range(1,13):\n",
    "        rem_mes = DeduccionEspecial.obtener_rem_mes(legajo,m)\n",
    "        datos_emp = [[legajo, m, rem_mes]]\n",
    "        df1 = pd.DataFrame(datos_emp, columns=[\"legajo\",\"Mes\", \"Importe\"])\n",
    "        df_rem_mes = pd.concat([df_rem_mes, df1], ignore_index=True) #guardar en el mismo df, el concatenado de ese df (inicialmente vacío) y el que voy creando con cada iteración. En la segunda iteración va tener ese df mas el nuevo y asi sucesivamente. \n",
    "display(df_rem_mes)\n",
    "\n",
    "\n",
    "pd.read_parquet('../572 web/572web.parquet')"
   ]
  },
  {
   "cell_type": "code",
   "execution_count": 15,
   "metadata": {},
   "outputs": [],
   "source": [
    "df_rem_mes.to_clipboard()"
   ]
  }
 ],
 "metadata": {
  "kernelspec": {
   "display_name": "Python 3",
   "language": "python",
   "name": "python3"
  },
  "language_info": {
   "codemirror_mode": {
    "name": "ipython",
    "version": 3
   },
   "file_extension": ".py",
   "mimetype": "text/x-python",
   "name": "python",
   "nbconvert_exporter": "python",
   "pygments_lexer": "ipython3",
   "version": "3.10.7"
  },
  "orig_nbformat": 4,
  "vscode": {
   "interpreter": {
    "hash": "cf96b071f30a396d8273bc9670241b6b166737f53a0dff988ecce5da7654d899"
   }
  }
 },
 "nbformat": 4,
 "nbformat_minor": 2
}
