{
 "cells": [
  {
   "attachments": {},
   "cell_type": "markdown",
   "metadata": {},
   "source": [
    "# Tratamiento SAC"
   ]
  },
  {
   "cell_type": "code",
   "execution_count": 1,
   "metadata": {},
   "outputs": [],
   "source": [
    "import pandas as pd\n",
    "from data import CWTR_SUM\n",
    "from helpers.bases import tabla\n",
    "import numpy as np"
   ]
  },
  {
   "attachments": {},
   "cell_type": "markdown",
   "metadata": {},
   "source": [
    "### Cálculo del SAC correspondiente a cada semestre"
   ]
  },
  {
   "cell_type": "code",
   "execution_count": 2,
   "metadata": {},
   "outputs": [],
   "source": [
    "#filtro el df que tiene todos los conceptos y dejo solamente el del SAC\n",
    "df_sac = CWTR_SUM.query('CCn == \"/S02\"')\n",
    "\n",
    "# creo df con el filtro correspondiente a cada semestre\n",
    "df_1erSem = df_sac.query('1 <= mes <= 6')\n",
    "df_2doSem = df_sac.query('7 <= mes <= 12')\n",
    "\n",
    "#como tengo varios sac por mes, los agrupo para que me quede uno por cada semestre\n",
    "df_1erSem = df_1erSem.groupby(['legajo','CCn'])['importe'].sum().reset_index() \n",
    "df_2doSem = df_2doSem.groupby(['legajo','CCn'])['importe'].sum().reset_index() "
   ]
  },
  {
   "cell_type": "code",
   "execution_count": 3,
   "metadata": {},
   "outputs": [],
   "source": [
    "#me traigo las remuneraciones para determinar si el SAC queda gravado o exento (sin ceros)\n",
    "bases_tramos = tabla(\"bases_tramos\").query('importe != 0')\n",
    "\n",
    "# #creo un df por cada semestre y agrupo segun el legajo, calculando el promedio\n",
    "filtro_1erSem = bases_tramos.query('1 <= mes <= 6')\n",
    "filtro_1erSem = filtro_1erSem.groupby(['legajo'])['importe'].mean().reset_index() \n",
    "filtro_2doSem = bases_tramos.query('7 <= mes <= 12')\n",
    "filtro_2doSem = filtro_2doSem.groupby(['legajo'])['importe'].mean().reset_index()\n",
    "\n",
    "TOPE_1_SEMESTRE = 280_792\n",
    "TOPE_2_SEMESTRE = 330_000\n",
    "\n",
    "# #renombro las columnas para poder luego unir los df segun el legajo y determino si esta gravado o exento \n",
    "SAC_1erSem =  filtro_1erSem.rename(columns={'importe':'Prom_SAC_1erSem'})\n",
    "SAC_1erSem[\"Sit_1er_Sem\"] = np.where(SAC_1erSem[\"Prom_SAC_1erSem\"] >= TOPE_1_SEMESTRE, \"Gravado\", \"Exento\")\n",
    "SAC_2doSem =  filtro_2doSem.rename(columns={'importe':'Prom_SAC_2doSem'})\n",
    "SAC_2doSem[\"Sit_2do_Sem\"] = np.where(SAC_2doSem[\"Prom_SAC_2doSem\"] >= TOPE_2_SEMESTRE, \"Gravado\", \"Exento\")\n",
    "\n",
    "# #hago la union de los dos df con un merge y me traigo los datos de ambas tablas (outer)\n",
    "df_promedios_SAC = pd.merge(SAC_1erSem, SAC_2doSem, on=\"legajo\", how=\"outer\")\n",
    "df_promedios_SAC.to_clipboard()"
   ]
  },
  {
   "cell_type": "code",
   "execution_count": 4,
   "metadata": {},
   "outputs": [],
   "source": [
    "#guardo el archivo junto con el resto de los parquet para luego llamarlo en otro lado \n",
    "df_promedios_SAC.to_parquet('../bases-ganancias-2022/middle/df_promedios_SAC.parquet', compression='brotli')"
   ]
  }
 ],
 "metadata": {
  "kernelspec": {
   "display_name": "Python 3",
   "language": "python",
   "name": "python3"
  },
  "language_info": {
   "codemirror_mode": {
    "name": "ipython",
    "version": 3
   },
   "file_extension": ".py",
   "mimetype": "text/x-python",
   "name": "python",
   "nbconvert_exporter": "python",
   "pygments_lexer": "ipython3",
   "version": "3.10.10"
  },
  "orig_nbformat": 4
 },
 "nbformat": 4,
 "nbformat_minor": 2
}
