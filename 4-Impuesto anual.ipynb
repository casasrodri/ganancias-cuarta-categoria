{
 "cells": [
  {
   "attachments": {},
   "cell_type": "markdown",
   "metadata": {},
   "source": [
    "# IMPUESTO A LAS GANANCIAS ANUAL  2022"
   ]
  },
  {
   "attachments": {},
   "cell_type": "markdown",
   "metadata": {},
   "source": [
    "## A. Importación de módulos y librerías"
   ]
  },
  {
   "cell_type": "code",
   "execution_count": 2,
   "metadata": {},
   "outputs": [],
   "source": [
    "import pandas as pd\n",
    "from data import CWTR_SUM\n",
    "from helpers.bases import tabla"
   ]
  },
  {
   "cell_type": "code",
   "execution_count": 17,
   "metadata": {},
   "outputs": [],
   "source": [
    "\n",
    "filtro = \"REM BURTA\"\n",
    "df= CWTR_SUM.groupby(['legajo','CCn'])['importe'].sum().reset_index() \n",
    "df= df.merge(tabla(\"conceptos\")[[\"CCn\", \"descripcion\", \"Detalle Anual\"]], how= \"left\", on=\"CCn\")\n",
    "df_rem_bruta = df.query('`Detalle Anual` == @filtro')\n",
    "df_aportes = df.query('`Detalle Anual` == \"APORTES\"')\n",
    "df_aportes_sind = df.query('`Detalle Anual` == \"APORTES SIND\"')"
   ]
  },
  {
   "cell_type": "code",
   "execution_count": 17,
   "metadata": {},
   "outputs": [],
   "source": [
    "df.to_excel(\"cwtr_para_anual.xlsx\")"
   ]
  }
 ],
 "metadata": {
  "kernelspec": {
   "display_name": "Python 3",
   "language": "python",
   "name": "python3"
  },
  "language_info": {
   "codemirror_mode": {
    "name": "ipython",
    "version": 3
   },
   "file_extension": ".py",
   "mimetype": "text/x-python",
   "name": "python",
   "nbconvert_exporter": "python",
   "pygments_lexer": "ipython3",
   "version": "3.10.7"
  },
  "orig_nbformat": 4
 },
 "nbformat": 4,
 "nbformat_minor": 2
}
