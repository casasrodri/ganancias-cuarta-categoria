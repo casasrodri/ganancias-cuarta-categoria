{
 "cells": [
  {
   "cell_type": "code",
   "execution_count": null,
   "metadata": {},
   "outputs": [],
   "source": [
    "import xmltodict \n",
    "import pandas as pd\n",
    "from os import listdir\n",
    "import os\n",
    "from data import CWTR, CUILES\n",
    "from helpers.dict import unpack"
   ]
  },
  {
   "cell_type": "code",
   "execution_count": null,
   "metadata": {},
   "outputs": [],
   "source": [
    "montos_cargas = { \n",
    "    \"normal\": {\n",
    "    1 :     19621.44, \n",
    "    3 :     9895.16, \n",
    "    30 :    9895.16, \n",
    "    31 :    19790.33, \n",
    "    32:     19790.33,\n",
    "    51:     19621.44, # VER CON VALE\n",
    "    103:    0,},\n",
    "\n",
    "    \"especial\" : {\n",
    "    1 :     23938.16, \n",
    "    3 :     12072.10, \n",
    "    30 :    12072.10, \n",
    "    31 :    24144.20, \n",
    "    32:     24144.20,\n",
    "    51:     23938.16, # VER CON VALE\n",
    "    103:    0,}\n",
    "}\n",
    "\n",
    "provincias_especiales = [\n",
    "    'Neuquén',\n",
    "    'Chubut',\n",
    "    'Río Negro',\n",
    "    'Santa Cruz',\n",
    "    'La Pampa',\n",
    "]"
   ]
  },
  {
   "attachments": {},
   "cell_type": "markdown",
   "metadata": {},
   "source": [
    "### COMPOSICIÓN DEL XML"
   ]
  },
  {
   "cell_type": "code",
   "execution_count": null,
   "metadata": {},
   "outputs": [],
   "source": [
    "from data import CUILES\n",
    "\n",
    "def obtener_legajo(cuil):\n",
    "    cuil = int(cuil)\n",
    "    return CUILES.query('cuil == @cuil').iloc[0].at[\"legajo\"]"
   ]
  },
  {
   "cell_type": "code",
   "execution_count": null,
   "metadata": {},
   "outputs": [],
   "source": [
    "cwtr_provincias = CWTR[['legajo', 'mes', 'provincia']].drop_duplicates().reset_index()"
   ]
  },
  {
   "cell_type": "code",
   "execution_count": null,
   "metadata": {},
   "outputs": [],
   "source": [
    "aux1 = cwtr_provincias.copy()\n",
    "aux1['count'] = 1\n",
    "\n",
    "resumen1 = aux1[['legajo', 'provincia', 'count']].groupby(['legajo', 'provincia'], as_index=False).sum()\n",
    "\n",
    "aux2 = resumen1[['legajo']].copy()\n",
    "aux2['count'] = 1\n",
    "\n",
    "\n",
    "resumen2 = aux2[['legajo', 'count']].groupby(['legajo'], as_index=False).sum()\n",
    "aux3 = resumen2.query('count > 1')\n",
    "\n",
    "LEGAJOS_MULTIPROVINCIA = list(aux3['legajo'])\n",
    "\n",
    "LEGAJOS_MULTIPROVINCIA"
   ]
  },
  {
   "cell_type": "code",
   "execution_count": null,
   "metadata": {},
   "outputs": [],
   "source": [
    "def obtener_provincia_mes(legajo_buscado, mes_buscado):\n",
    "\n",
    "    if int(legajo_buscado) not in LEGAJOS_MULTIPROVINCIA:\n",
    "        raise IndexError(f'El legajo \"{legajo_buscado}\" sólo tiene una provincia, no siendo necesario el parámetro mes. \\nSe debe usar la función: \\n  obtener_provincia()')\n",
    "    \n",
    "    # for i, row in cwtr_provincias.iterrows():\n",
    "    #     legajo, mes, provincia = unpack(row, 'legajo', 'mes', 'provincia')\n",
    "\n",
    "    #     if legajo_buscado == legajo and mes_buscado == mes:\n",
    "    #         return provincia\n",
    "\n",
    "    return cwtr_provincias.query('legajo == @legajo_buscado and mes == @mes_buscado').iloc[0].at['provincia']"
   ]
  },
  {
   "cell_type": "code",
   "execution_count": null,
   "metadata": {},
   "outputs": [],
   "source": [
    "def obtener_provincia(legajo_buscado):\n",
    "\n",
    "    if int(legajo_buscado) in LEGAJOS_MULTIPROVINCIA:\n",
    "        raise IndexError(f'El legajo \"{legajo_buscado}\" posee más de una provincia asociada. \\nSe debe consultar para un mes determinado usando la función: \\n  obtener_provincia_mes()')\n",
    "    \n",
    "    return resumen1.query('legajo == @legajo_buscado').iloc[0].at['provincia']"
   ]
  },
  {
   "cell_type": "code",
   "execution_count": null,
   "metadata": {},
   "outputs": [],
   "source": [
    "def apertura_deducciones_por_mes(cuil, tipo_deduccion, mes_desde, mes_hasta, monto_mensual):\n",
    "    '''\n",
    "    Esta funcion devuelve un df con la cantidad de registros necesarios, segun el intervalo desde hasta (periodo) por cada deducción.\n",
    "    '''\n",
    "    datos_572 = [[cuil, tipo_deduccion, monto_mensual]]\n",
    "    df_datos_572 = pd.DataFrame(datos_572, columns=[\"cuil\",\"codigo\", \"importe\"])\n",
    "\n",
    "    cant_filas = (mes_hasta - mes_desde + 1)\n",
    "\n",
    "    df_datos_572 = pd.concat([df_datos_572]*cant_filas, ignore_index=True)\n",
    "\n",
    "    df_datos_572[\"mes\"] = list(range(mes_desde, mes_hasta + 1))\n",
    "\n",
    "    return df_datos_572"
   ]
  },
  {
   "cell_type": "code",
   "execution_count": null,
   "metadata": {},
   "outputs": [],
   "source": [
    "def apertura_cargas_por_mes(cuil, tipo_deduccion, mes_desde, mes_hasta, parentesco, porcentaje_deduccion):\n",
    "    '''\n",
    "    Esta funcion devuelve un df con la cantidad de registros necesarios, segun el intervalo desde hasta (periodo) por cada deducción.\n",
    "    '''\n",
    "    print(cuil)\n",
    "    legajo = obtener_legajo(cuil)\n",
    "\n",
    "    if legajo not in LEGAJOS_MULTIPROVINCIA:\n",
    "\n",
    "        provincia = obtener_provincia(legajo)\n",
    "        tipo_mni = 'especial' if provincia in provincias_especiales else 'normal'\n",
    "        montos_seg_zona = montos_cargas[tipo_mni]\n",
    "\n",
    "        monto_mensual = montos_seg_zona[parentesco] * porcentaje_deduccion / 100\n",
    "\n",
    "        return apertura_deducciones_por_mes(cuil, tipo_deduccion, mes_desde, mes_hasta, monto_mensual)\n",
    "\n",
    "    else:\n",
    "\n",
    "        df_out = pd.DataFrame()\n",
    "        for mes in range(mes_desde, mes_hasta + 1):\n",
    "            \n",
    "            provincia = obtener_provincia_mes(legajo, mes)\n",
    "            tipo_mni = 'especial' if provincia in provincias_especiales else 'normal'\n",
    "            montos_seg_zona = montos_cargas[tipo_mni]\n",
    "\n",
    "            monto_mensual = montos_seg_zona[parentesco] * porcentaje_deduccion / 100\n",
    "\n",
    "            df_mes = apertura_deducciones_por_mes(cuil, tipo_deduccion, mes, mes, monto_mensual)\n",
    "            df_out = pd.concat([df_out, df_mes])\n",
    "        \n",
    "        return df_out \n"
   ]
  },
  {
   "cell_type": "code",
   "execution_count": null,
   "metadata": {},
   "outputs": [],
   "source": [
    "def cargas_por_mes(xml):\n",
    "\n",
    "    prefijo = \"Q-CargFam-\"\n",
    "\n",
    "    empleado = xml[\"presentacion\"][\"empleado\"][\"cuit\"]\n",
    "    cargas = xml[\"presentacion\"][\"cargasFamilia\"][\"cargaFamilia\"]\n",
    "    df_por_mes_cargas = pd.DataFrame([], columns=[\"cuil\", \"codigo\", \"importe\", \"mes\"])\n",
    "     \n",
    "    if isinstance(cargas, dict):\n",
    "        cargas = [cargas]\n",
    "\n",
    "    for i in cargas:\n",
    "        parentesco = int(i[\"parentesco\"])\n",
    "        tipo_deduccion_carga = i[\"parentesco\"]\n",
    "        porcentaje_deduccion = int(i[\"porcentajeDeduccion\"])\n",
    "        mes_desde = int(i[\"mesDesde\"])\n",
    "        mes_hasta = int(i[\"mesHasta\"])\n",
    "\n",
    "        df = apertura_cargas_por_mes(empleado, prefijo + tipo_deduccion_carga, mes_desde, mes_hasta, parentesco, porcentaje_deduccion)    \n",
    "        df_por_mes_cargas = pd.concat([df_por_mes_cargas, df], ignore_index=True)\n",
    "        \n",
    "    return(df_por_mes_cargas)"
   ]
  },
  {
   "cell_type": "code",
   "execution_count": null,
   "metadata": {},
   "outputs": [],
   "source": [
    "CODIGOS_DEDUCC_MENSUAL = [1, 3, 4, 5, 8, 11, 22, 32] #solamente dejar los que necesito que se procesen mensualmente\n",
    "\n",
    "def deducciones_totales_por_mes(xml):\n",
    "\n",
    "    prefijo = \"Q-Deduc-\"\n",
    "\n",
    "    empleado = xml[\"presentacion\"][\"empleado\"][\"cuit\"]\n",
    "    deducciones = xml[\"presentacion\"][\"deducciones\"][\"deduccion\"]\n",
    "    df_por_mes = pd.DataFrame([], columns=[\"cuil\", \"codigo\", \"importe\", \"mes\"])\n",
    "    \n",
    "    if isinstance(deducciones, dict):\n",
    "        deducciones = [deducciones]\n",
    "    \n",
    "    for i in deducciones:\n",
    "        tipo_deduccion = int(i[\"@tipo\"])\n",
    "        if tipo_deduccion in CODIGOS_DEDUCC_MENSUAL:\n",
    "            periodo = i[\"periodos\"][\"periodo\"]\n",
    "            \n",
    "            #compruebo si es un diccionario y lo paso a listsa\n",
    "            if isinstance(periodo, dict):\n",
    "                periodo = [periodo]\n",
    "            \n",
    "            #para cada vaalor, determino los valores, ya sea que tengo una deduccion o muchas\n",
    "            for j in periodo: \n",
    "                mes_desde = int(j[\"@mesDesde\"])\n",
    "                mes_hasta = int(j[\"@mesHasta\"])\n",
    "                monto_mensual = float(j[\"@montoMensual\"])\n",
    "                df = apertura_deducciones_por_mes(empleado, prefijo + str(tipo_deduccion), mes_desde, mes_hasta, monto_mensual)\n",
    "                df_por_mes = pd.concat([df_por_mes, df], ignore_index=True)            \n",
    "        else:\n",
    "            monto_anual = float(i[\"montoTotal\"])\n",
    "            df = apertura_deducciones_por_mes(empleado, prefijo + str(tipo_deduccion), 13, 13, monto_anual)\n",
    "            df_por_mes = pd.concat([df_por_mes, df], ignore_index=True)\n",
    "\n",
    "    return df_por_mes"
   ]
  },
  {
   "cell_type": "code",
   "execution_count": null,
   "metadata": {},
   "outputs": [],
   "source": [
    "def df_otro_empleador(xml):\n",
    "\n",
    "    prefijo = 'Q-OE-'\n",
    "\n",
    "    empleado = xml[\"presentacion\"][\"empleado\"][\"cuit\"]\n",
    "    ingresos_oe = xml[\"presentacion\"][\"ganLiqOtrosEmpEnt\"][\"empEnt\"][\"ingresosAportes\"][\"ingAp\"]\n",
    "    df_otro_empleador = pd.DataFrame([], columns=[\"cuil\", \"codigo\", \"importe\", \"mes\"])\n",
    "\n",
    "    if isinstance(ingresos_oe, dict):\n",
    "        ingresos_oe = [ingresos_oe]\n",
    "\n",
    "    for mes in ingresos_oe:\n",
    "        for k in list(mes.keys()):\n",
    "            if k == \"@mes\":\n",
    "                continue \n",
    "            valor = float(mes[k])\n",
    "            if valor != 0:\n",
    "                datos_df_oe = [empleado, prefijo + k, valor, int(mes[\"@mes\"])]\n",
    "                df_oe_new = pd.DataFrame([datos_df_oe], columns=[\"cuil\", \"codigo\", \"importe\", \"mes\"])\n",
    "                df_otro_empleador = pd.concat([df_otro_empleador, df_oe_new], ignore_index=True)\n",
    "        \n",
    "    return(df_otro_empleador)"
   ]
  },
  {
   "cell_type": "code",
   "execution_count": null,
   "metadata": {},
   "outputs": [],
   "source": [
    "def df_ret_per_pago(xml):\n",
    "\n",
    "    prefijo = 'Q-RetPerPagCu-'\n",
    "\n",
    "    empleado = xml[\"presentacion\"][\"empleado\"][\"cuit\"]\n",
    "    rpp = xml[\"presentacion\"][\"retPerPagos\"][\"retPerPago\"]\n",
    "    df_por_rrp = pd.DataFrame([], columns=[\"cuil\", \"codigo\", \"importe\", \"mes\"])\n",
    "    \n",
    "    if isinstance(rpp, dict):\n",
    "        rpp = [rpp]\n",
    "    \n",
    "    for i in rpp:\n",
    "        tipo_deduccion = int(i[\"@tipo\"])            \n",
    "        monto_mensual = float(i[\"montoTotal\"])\n",
    "        datos_df_rpp = [empleado, prefijo + str(tipo_deduccion), monto_mensual, 13]\n",
    "        df = pd.DataFrame([datos_df_rpp], columns=[\"cuil\", \"codigo\", \"importe\", \"mes\"])\n",
    "        df_por_rrp = pd.concat([df_por_rrp, df], ignore_index=True) \n",
    "\n",
    "    return df_por_rrp"
   ]
  },
  {
   "cell_type": "code",
   "execution_count": null,
   "metadata": {},
   "outputs": [],
   "source": [
    "carpeta_xml = \"../bases-ganancias-2022/in/formularios572/\""
   ]
  },
  {
   "cell_type": "code",
   "execution_count": null,
   "metadata": {},
   "outputs": [],
   "source": [
    "CUILES_NO_PROCESAR = []\n",
    "archivo_cuiles = list(CUILES['cuil'])\n",
    "\n",
    "for f in listdir(carpeta_xml):\n",
    "    cuil = int(f[0:11])\n",
    "    if cuil not in archivo_cuiles:\n",
    "        CUILES_NO_PROCESAR.append(cuil)\n",
    "\n",
    "CUILES_NO_PROCESAR"
   ]
  },
  {
   "cell_type": "code",
   "execution_count": null,
   "metadata": {},
   "outputs": [],
   "source": [
    "from helpers.progressbar import ProgressBar\n",
    "def deducciones_finales(carpeta):\n",
    "\n",
    "    listdir(carpeta_xml)\n",
    "    df_deducciones = pd.DataFrame()\n",
    "\n",
    "    p = ProgressBar(len(listdir(carpeta_xml)), segmentos=120)\n",
    "    for a in listdir(carpeta_xml):\n",
    "        path = carpeta_xml + \"\\\\\" + a\n",
    "\n",
    "        with open(path, encoding='utf-8') as f:\n",
    "            xml = xmltodict.parse(f.read())\n",
    "\n",
    "            cuit = xml['presentacion']['empleado']['cuit']\n",
    "\n",
    "            if int(cuit) in CUILES_NO_PROCESAR:\n",
    "                print('Cuit salteado:', cuit)\n",
    "                p.next()\n",
    "                continue\n",
    "\n",
    "            if \"deducciones\" in xml[\"presentacion\"]:\n",
    "                df_deducc_mes_por_empleado = deducciones_totales_por_mes(xml)\n",
    "                df_deducciones = pd.concat([df_deducc_mes_por_empleado, df_deducciones], ignore_index=True)\n",
    "\n",
    "            if \"cargasFamilia\" in xml[\"presentacion\"]:\n",
    "                df_cargas_por_empleado_mes = cargas_por_mes(xml)\n",
    "                df_deducciones = pd.concat([df_cargas_por_empleado_mes, df_deducciones], ignore_index=True)\n",
    "\n",
    "            if \"ganLiqOtrosEmpEnt\" in xml[\"presentacion\"]:\n",
    "                df_ing_aport_otro_empleador = df_otro_empleador(xml)\n",
    "                df_deducciones = pd.concat([df_ing_aport_otro_empleador, df_deducciones], ignore_index=True)\n",
    "\n",
    "            if \"retPerPagos\" in xml[\"presentacion\"]:\n",
    "                df_rpp = df_ret_per_pago(xml)\n",
    "                df_deducciones= pd.concat([df_rpp, df_deducciones], ignore_index=True)\n",
    "\n",
    "        p.next()\n",
    "                \n",
    "    return(df_deducciones)\n"
   ]
  },
  {
   "cell_type": "code",
   "execution_count": null,
   "metadata": {},
   "outputs": [],
   "source": [
    "df = deducciones_finales(carpeta_xml)"
   ]
  },
  {
   "cell_type": "code",
   "execution_count": null,
   "metadata": {},
   "outputs": [],
   "source": [
    "df.to_clipboard()"
   ]
  },
  {
   "cell_type": "code",
   "execution_count": null,
   "metadata": {},
   "outputs": [],
   "source": [
    "df.to_excel(\"deducciones_572web.xlsx\")"
   ]
  },
  {
   "cell_type": "code",
   "execution_count": null,
   "metadata": {},
   "outputs": [],
   "source": [
    "codigos = list(df['codigo'].unique())\n",
    "codigos.sort()\n",
    "for c in codigos:\n",
    "    print(c)"
   ]
  },
  {
   "cell_type": "code",
   "execution_count": null,
   "metadata": {},
   "outputs": [],
   "source": [
    "df.to_parquet('../bases-ganancias-2022/middle/572web.parquet', compression='brotli')"
   ]
  }
 ],
 "metadata": {
  "kernelspec": {
   "display_name": "Python 3",
   "language": "python",
   "name": "python3"
  },
  "language_info": {
   "codemirror_mode": {
    "name": "ipython",
    "version": 3
   },
   "file_extension": ".py",
   "mimetype": "text/x-python",
   "name": "python",
   "nbconvert_exporter": "python",
   "pygments_lexer": "ipython3",
   "version": "3.10.10"
  },
  "orig_nbformat": 4,
  "vscode": {
   "interpreter": {
    "hash": "cf96b071f30a396d8273bc9670241b6b166737f53a0dff988ecce5da7654d899"
   }
  }
 },
 "nbformat": 4,
 "nbformat_minor": 2
}
