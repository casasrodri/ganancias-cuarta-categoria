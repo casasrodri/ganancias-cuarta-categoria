{
 "cells": [
  {
   "cell_type": "code",
   "execution_count": 1,
   "metadata": {},
   "outputs": [],
   "source": [
    "import xmltodict \n",
    "import pandas as pd\n",
    "from os import listdir\n",
    "import os\n",
    "from data import CWTR\n"
   ]
  },
  {
   "cell_type": "code",
   "execution_count": 2,
   "metadata": {},
   "outputs": [],
   "source": [
    "def unpack(diccionario: dict, *keys):\n",
    "    out = []\n",
    "    for k in keys:\n",
    "        out.append(diccionario.get(k))\n",
    "    return out"
   ]
  },
  {
   "cell_type": "code",
   "execution_count": 3,
   "metadata": {},
   "outputs": [],
   "source": [
    "montos_cargas = { \n",
    "    \"normal\": {\n",
    "    1 :     19621.44, \n",
    "    3 :     9895.16, \n",
    "    30 :    9895.16, \n",
    "    31 :    19790.33, \n",
    "    32:     19790.33,\n",
    "    51:     19621.44, # VER CON VALE\n",
    "    103:    0,},\n",
    "\n",
    "    \"especial\" : {\n",
    "    1 :     23938.16, \n",
    "    3 :     12072.10, \n",
    "    30 :    12072.10, \n",
    "    31 :    24144.20, \n",
    "    32:     24144.20,\n",
    "    51:     23938.16, # VER CON VALE\n",
    "    103:    0,}\n",
    "}\n",
    "\n",
    "provincias_especiales = [\n",
    "    'Neuquén',\n",
    "    'Chubut',\n",
    "    'Río Negro',\n",
    "    'Santa Cruz',\n",
    "    'La Pampa',\n",
    "]\n"
   ]
  },
  {
   "attachments": {},
   "cell_type": "markdown",
   "metadata": {},
   "source": [
    "### COMPOSICIÓN DEL XML"
   ]
  },
  {
   "attachments": {},
   "cell_type": "markdown",
   "metadata": {},
   "source": [
    "<presentacion>\n",
    "    <periodo>…</periodo>\n",
    "    <nroPresentacion>…</nroPresentacion>\n",
    "    <fechaPresentacion>…</fechaPresentacion>\n",
    "    <empleado>…</empleado>\n",
    "    <cargasFamilia>…</cargasFamilia>\n",
    "    <ganLiqOtrosEmpEnt>…</ganLiqOtrosEmpEnt>\n",
    "    <deducciones>…</deducciones>\n",
    "    <retPerPagos>…</retPerPagos>\n",
    "    <ajustes>…</ajustes>\n",
    "    <datosAdicionales>…</datosAdicionales>\n",
    "<presentacion>"
   ]
  },
  {
   "cell_type": "code",
   "execution_count": 4,
   "metadata": {},
   "outputs": [],
   "source": [
    "from data import CUILES\n",
    "\n",
    "def obtener_legajo(cuil):\n",
    "    cuil = int(cuil)\n",
    "    return CUILES.query('cuil == @cuil').iloc[0].at[\"legajo\"]"
   ]
  },
  {
   "cell_type": "code",
   "execution_count": 6,
   "metadata": {},
   "outputs": [],
   "source": [
    "cwtr_provincias = CWTR[['legajo', 'mes', 'provincia']].drop_duplicates().reset_index()"
   ]
  },
  {
   "cell_type": "code",
   "execution_count": 82,
   "metadata": {},
   "outputs": [
    {
     "data": {
      "text/html": [
       "<div>\n",
       "<style scoped>\n",
       "    .dataframe tbody tr th:only-of-type {\n",
       "        vertical-align: middle;\n",
       "    }\n",
       "\n",
       "    .dataframe tbody tr th {\n",
       "        vertical-align: top;\n",
       "    }\n",
       "\n",
       "    .dataframe thead th {\n",
       "        text-align: right;\n",
       "    }\n",
       "</style>\n",
       "<table border=\"1\" class=\"dataframe\">\n",
       "  <thead>\n",
       "    <tr style=\"text-align: right;\">\n",
       "      <th></th>\n",
       "      <th>index</th>\n",
       "      <th>legajo</th>\n",
       "      <th>mes</th>\n",
       "      <th>provincia</th>\n",
       "    </tr>\n",
       "  </thead>\n",
       "  <tbody>\n",
       "    <tr>\n",
       "      <th>17462</th>\n",
       "      <td>256333</td>\n",
       "      <td>6004938</td>\n",
       "      <td>7</td>\n",
       "      <td>Mendoza</td>\n",
       "    </tr>\n",
       "    <tr>\n",
       "      <th>17463</th>\n",
       "      <td>256334</td>\n",
       "      <td>6004938</td>\n",
       "      <td>8</td>\n",
       "      <td>Mendoza</td>\n",
       "    </tr>\n",
       "    <tr>\n",
       "      <th>17464</th>\n",
       "      <td>256335</td>\n",
       "      <td>6004938</td>\n",
       "      <td>9</td>\n",
       "      <td>Mendoza</td>\n",
       "    </tr>\n",
       "    <tr>\n",
       "      <th>17465</th>\n",
       "      <td>256355</td>\n",
       "      <td>6004938</td>\n",
       "      <td>7</td>\n",
       "      <td>Neuquén</td>\n",
       "    </tr>\n",
       "    <tr>\n",
       "      <th>17466</th>\n",
       "      <td>256356</td>\n",
       "      <td>6004938</td>\n",
       "      <td>9</td>\n",
       "      <td>Neuquén</td>\n",
       "    </tr>\n",
       "    <tr>\n",
       "      <th>17467</th>\n",
       "      <td>256359</td>\n",
       "      <td>6004938</td>\n",
       "      <td>10</td>\n",
       "      <td>Neuquén</td>\n",
       "    </tr>\n",
       "    <tr>\n",
       "      <th>17468</th>\n",
       "      <td>256360</td>\n",
       "      <td>6004938</td>\n",
       "      <td>11</td>\n",
       "      <td>Neuquén</td>\n",
       "    </tr>\n",
       "    <tr>\n",
       "      <th>17469</th>\n",
       "      <td>256364</td>\n",
       "      <td>6004938</td>\n",
       "      <td>1</td>\n",
       "      <td>Neuquén</td>\n",
       "    </tr>\n",
       "    <tr>\n",
       "      <th>17470</th>\n",
       "      <td>256366</td>\n",
       "      <td>6004938</td>\n",
       "      <td>2</td>\n",
       "      <td>Neuquén</td>\n",
       "    </tr>\n",
       "    <tr>\n",
       "      <th>17471</th>\n",
       "      <td>256367</td>\n",
       "      <td>6004938</td>\n",
       "      <td>3</td>\n",
       "      <td>Neuquén</td>\n",
       "    </tr>\n",
       "    <tr>\n",
       "      <th>17472</th>\n",
       "      <td>256368</td>\n",
       "      <td>6004938</td>\n",
       "      <td>4</td>\n",
       "      <td>Neuquén</td>\n",
       "    </tr>\n",
       "    <tr>\n",
       "      <th>17473</th>\n",
       "      <td>256369</td>\n",
       "      <td>6004938</td>\n",
       "      <td>5</td>\n",
       "      <td>Neuquén</td>\n",
       "    </tr>\n",
       "    <tr>\n",
       "      <th>17474</th>\n",
       "      <td>256370</td>\n",
       "      <td>6004938</td>\n",
       "      <td>6</td>\n",
       "      <td>Neuquén</td>\n",
       "    </tr>\n",
       "    <tr>\n",
       "      <th>17475</th>\n",
       "      <td>256377</td>\n",
       "      <td>6004938</td>\n",
       "      <td>12</td>\n",
       "      <td>Neuquén</td>\n",
       "    </tr>\n",
       "  </tbody>\n",
       "</table>\n",
       "</div>"
      ],
      "text/plain": [
       "        index   legajo  mes provincia\n",
       "17462  256333  6004938    7   Mendoza\n",
       "17463  256334  6004938    8   Mendoza\n",
       "17464  256335  6004938    9   Mendoza\n",
       "17465  256355  6004938    7   Neuquén\n",
       "17466  256356  6004938    9   Neuquén\n",
       "17467  256359  6004938   10   Neuquén\n",
       "17468  256360  6004938   11   Neuquén\n",
       "17469  256364  6004938    1   Neuquén\n",
       "17470  256366  6004938    2   Neuquén\n",
       "17471  256367  6004938    3   Neuquén\n",
       "17472  256368  6004938    4   Neuquén\n",
       "17473  256369  6004938    5   Neuquén\n",
       "17474  256370  6004938    6   Neuquén\n",
       "17475  256377  6004938   12   Neuquén"
      ]
     },
     "execution_count": 82,
     "metadata": {},
     "output_type": "execute_result"
    }
   ],
   "source": [
    "cwtr_provincias.query('legajo == 6004938')"
   ]
  },
  {
   "cell_type": "code",
   "execution_count": 79,
   "metadata": {},
   "outputs": [],
   "source": [
    "aux1 = cwtr_provincias.copy()\n",
    "aux1['count'] = 1\n",
    "\n",
    "resumen1 = aux1[['legajo', 'provincia', 'count']].groupby(['legajo', 'provincia'], as_index=False).sum()\n",
    "\n",
    "aux2 = resumen1[['legajo']].copy()\n",
    "aux2['count'] = 1\n",
    "\n",
    "\n",
    "resumen2 = aux2[['legajo', 'count']].groupby(['legajo'], as_index=False).sum()\n",
    "aux3 = resumen2.query('count > 1')\n",
    "\n",
    "LEGAJOS_MULTIPROVINCIA = list(aux3['legajo'])\n",
    "\n",
    "LEGAJOS_MULTIPROVINCIA\n",
    "resumen1.to_clipboard()"
   ]
  },
  {
   "cell_type": "code",
   "execution_count": 76,
   "metadata": {},
   "outputs": [],
   "source": [
    "def obtener_provincia_mes(legajo_buscado, mes_buscado):\n",
    "\n",
    "    if int(legajo_buscado) not in LEGAJOS_MULTIPROVINCIA:\n",
    "        raise IndexError(f'El legajo \"{legajo_buscado}\" sólo tiene una provincia, no siendo necesario el parámetro mes. \\nSe debe usar la función: \\n  obtener_provincia()')\n",
    "    \n",
    "    # for i, row in cwtr_provincias.iterrows():\n",
    "    #     legajo, mes, provincia = unpack(row, 'legajo', 'mes', 'provincia')\n",
    "\n",
    "    #     if legajo_buscado == legajo and mes_buscado == mes:\n",
    "    #         return provincia\n",
    "\n",
    "    return cwtr_provincias.query('legajo == @legajo_buscado and mes == @mes_buscado').iloc[0].at['provincia']"
   ]
  },
  {
   "cell_type": "code",
   "execution_count": 77,
   "metadata": {},
   "outputs": [],
   "source": [
    "def obtener_provincia(legajo_buscado):\n",
    "\n",
    "    if int(legajo_buscado) in LEGAJOS_MULTIPROVINCIA:\n",
    "        raise IndexError(f'El legajo \"{legajo_buscado}\" posee más de una provincia asociada. \\nSe debe consultar para un mes determinado usando la función: \\n  obtener_provincia_mes()')\n",
    "    \n",
    "    return resumen1.query('legajo == @legajo_buscado').iloc[0].at['provincia']"
   ]
  },
  {
   "cell_type": "code",
   "execution_count": 69,
   "metadata": {},
   "outputs": [
    {
     "ename": "IndexError",
     "evalue": "single positional indexer is out-of-bounds",
     "output_type": "error",
     "traceback": [
      "\u001b[1;31m---------------------------------------------------------------------------\u001b[0m",
      "\u001b[1;31mIndexError\u001b[0m                                Traceback (most recent call last)",
      "Cell \u001b[1;32mIn[69], line 8\u001b[0m\n\u001b[0;32m      5\u001b[0m \u001b[39m# legajo_buscado = \"6066825\"\u001b[39;00m\n\u001b[0;32m      7\u001b[0m \u001b[39mfor\u001b[39;00m i \u001b[39min\u001b[39;00m \u001b[39mrange\u001b[39m(\u001b[39m1\u001b[39m,\u001b[39m13\u001b[39m):\n\u001b[1;32m----> 8\u001b[0m     \u001b[39mprint\u001b[39m(obtener_provincia_mes(legajo_buscado, i))\n",
      "Cell \u001b[1;32mIn[68], line 12\u001b[0m, in \u001b[0;36mobtener_provincia_mes\u001b[1;34m(legajo_buscado, mes_buscado)\u001b[0m\n\u001b[0;32m      4\u001b[0m     \u001b[39mraise\u001b[39;00m \u001b[39mIndexError\u001b[39;00m(\u001b[39mf\u001b[39m\u001b[39m'\u001b[39m\u001b[39mEl legajo \u001b[39m\u001b[39m\"\u001b[39m\u001b[39m{\u001b[39;00mlegajo_buscado\u001b[39m}\u001b[39;00m\u001b[39m\"\u001b[39m\u001b[39m sólo tiene una provincia, no siendo necesario el parámetro mes. \u001b[39m\u001b[39m\\n\u001b[39;00m\u001b[39mSe debe usar la función: \u001b[39m\u001b[39m\\n\u001b[39;00m\u001b[39m  obtener_provincia()\u001b[39m\u001b[39m'\u001b[39m)\n\u001b[0;32m      6\u001b[0m \u001b[39m# for i, row in cwtr_provincias.iterrows():\u001b[39;00m\n\u001b[0;32m      7\u001b[0m \u001b[39m#     legajo, mes, provincia = unpack(row, 'legajo', 'mes', 'provincia')\u001b[39;00m\n\u001b[0;32m      8\u001b[0m \n\u001b[0;32m      9\u001b[0m \u001b[39m#     if legajo_buscado == legajo and mes_buscado == mes:\u001b[39;00m\n\u001b[0;32m     10\u001b[0m \u001b[39m#         return provincia\u001b[39;00m\n\u001b[1;32m---> 12\u001b[0m \u001b[39mreturn\u001b[39;00m cwtr_provincias\u001b[39m.\u001b[39;49mquery(\u001b[39m'\u001b[39;49m\u001b[39mlegajo == @legajo_buscado and mes == @mes_buscado\u001b[39;49m\u001b[39m'\u001b[39;49m)\u001b[39m.\u001b[39;49miloc[\u001b[39m0\u001b[39;49m]\u001b[39m.\u001b[39mat[\u001b[39m'\u001b[39m\u001b[39mprovincia\u001b[39m\u001b[39m'\u001b[39m]\n",
      "File \u001b[1;32mc:\\Users\\u161900\\AppData\\Local\\Programs\\Python\\Python310\\lib\\site-packages\\pandas\\core\\indexing.py:1073\u001b[0m, in \u001b[0;36m_LocationIndexer.__getitem__\u001b[1;34m(self, key)\u001b[0m\n\u001b[0;32m   1070\u001b[0m axis \u001b[39m=\u001b[39m \u001b[39mself\u001b[39m\u001b[39m.\u001b[39maxis \u001b[39mor\u001b[39;00m \u001b[39m0\u001b[39m\n\u001b[0;32m   1072\u001b[0m maybe_callable \u001b[39m=\u001b[39m com\u001b[39m.\u001b[39mapply_if_callable(key, \u001b[39mself\u001b[39m\u001b[39m.\u001b[39mobj)\n\u001b[1;32m-> 1073\u001b[0m \u001b[39mreturn\u001b[39;00m \u001b[39mself\u001b[39;49m\u001b[39m.\u001b[39;49m_getitem_axis(maybe_callable, axis\u001b[39m=\u001b[39;49maxis)\n",
      "File \u001b[1;32mc:\\Users\\u161900\\AppData\\Local\\Programs\\Python\\Python310\\lib\\site-packages\\pandas\\core\\indexing.py:1625\u001b[0m, in \u001b[0;36m_iLocIndexer._getitem_axis\u001b[1;34m(self, key, axis)\u001b[0m\n\u001b[0;32m   1622\u001b[0m     \u001b[39mraise\u001b[39;00m \u001b[39mTypeError\u001b[39;00m(\u001b[39m\"\u001b[39m\u001b[39mCannot index by location index with a non-integer key\u001b[39m\u001b[39m\"\u001b[39m)\n\u001b[0;32m   1624\u001b[0m \u001b[39m# validate the location\u001b[39;00m\n\u001b[1;32m-> 1625\u001b[0m \u001b[39mself\u001b[39;49m\u001b[39m.\u001b[39;49m_validate_integer(key, axis)\n\u001b[0;32m   1627\u001b[0m \u001b[39mreturn\u001b[39;00m \u001b[39mself\u001b[39m\u001b[39m.\u001b[39mobj\u001b[39m.\u001b[39m_ixs(key, axis\u001b[39m=\u001b[39maxis)\n",
      "File \u001b[1;32mc:\\Users\\u161900\\AppData\\Local\\Programs\\Python\\Python310\\lib\\site-packages\\pandas\\core\\indexing.py:1557\u001b[0m, in \u001b[0;36m_iLocIndexer._validate_integer\u001b[1;34m(self, key, axis)\u001b[0m\n\u001b[0;32m   1555\u001b[0m len_axis \u001b[39m=\u001b[39m \u001b[39mlen\u001b[39m(\u001b[39mself\u001b[39m\u001b[39m.\u001b[39mobj\u001b[39m.\u001b[39m_get_axis(axis))\n\u001b[0;32m   1556\u001b[0m \u001b[39mif\u001b[39;00m key \u001b[39m>\u001b[39m\u001b[39m=\u001b[39m len_axis \u001b[39mor\u001b[39;00m key \u001b[39m<\u001b[39m \u001b[39m-\u001b[39mlen_axis:\n\u001b[1;32m-> 1557\u001b[0m     \u001b[39mraise\u001b[39;00m \u001b[39mIndexError\u001b[39;00m(\u001b[39m\"\u001b[39m\u001b[39msingle positional indexer is out-of-bounds\u001b[39m\u001b[39m\"\u001b[39m)\n",
      "\u001b[1;31mIndexError\u001b[0m: single positional indexer is out-of-bounds"
     ]
    }
   ],
   "source": [
    "# for i in range(1,13):\n",
    "#     print(obtener_provincia_mes(\"6105072\", i))\n",
    "\n",
    "legajo_buscado = \"6105072\"\n",
    "# legajo_buscado = \"6066825\"\n",
    "\n",
    "for i in range(1,13):\n",
    "    print(obtener_provincia_mes(legajo_buscado, i))"
   ]
  },
  {
   "cell_type": "code",
   "execution_count": 10,
   "metadata": {},
   "outputs": [],
   "source": [
    "def apertura_deducciones_por_mes(cuil, tipo_deduccion, mes_desde, mes_hasta, monto_mensual):\n",
    "    '''\n",
    "    Esta funcion devuelve un df con la cantidad de registros necesarios, segun el intervalo desde hasta (periodo) por cada deducción.\n",
    "    '''\n",
    "    datos_572 = [[cuil, tipo_deduccion, monto_mensual]]\n",
    "    df_datos_572 = pd.DataFrame(datos_572, columns=[\"cuil\",\"codigo\", \"importe\"])\n",
    "\n",
    "    cant_filas = (mes_hasta - mes_desde + 1)\n",
    "\n",
    "    df_datos_572 = pd.concat([df_datos_572]*cant_filas, ignore_index=True)\n",
    "\n",
    "    nueva_columna = []\n",
    "\n",
    "    for i in range(14):\n",
    "        if mes_desde <= i <= mes_hasta: \n",
    "            nueva_columna.append(i)\n",
    "\n",
    "    for index, fila in df_datos_572.iterrows():\n",
    "        mes = mes_desde\n",
    "        if mes <= mes_hasta:\n",
    "            df_datos_572[\"mes\"] = nueva_columna\n",
    "            mes = mes_desde + 1\n",
    "\n",
    "    return df_datos_572\n"
   ]
  },
  {
   "cell_type": "code",
   "execution_count": 11,
   "metadata": {},
   "outputs": [],
   "source": [
    "def apertura_cargas_por_mes(cuil, tipo_deduccion, mes_desde, mes_hasta, parentesco, porcentaje_deduccion):\n",
    "    '''\n",
    "    Esta funcion devuelve un df con la cantidad de registros necesarios, segun el intervalo desde hasta (periodo) por cada deducción.\n",
    "    '''\n",
    "    print(cuil)\n",
    "    legajo = obtener_legajo(cuil)\n",
    "\n",
    "    if legajo not in LEGAJOS_MULTIPROVINCIA:\n",
    "\n",
    "        provincia = obtener_provincia(legajo)\n",
    "        tipo_mni = 'especial' if provincia in provincias_especiales else 'normal'\n",
    "        montos_seg_zona = montos_cargas[tipo_mni]\n",
    "\n",
    "        monto_mensual = montos_seg_zona[parentesco] * porcentaje_deduccion / 100\n",
    "\n",
    "        return apertura_deducciones_por_mes(cuil, tipo_deduccion, mes_desde, mes_hasta, monto_mensual)\n",
    "\n",
    "    else:\n",
    "\n",
    "        df_out = pd.DataFrame()\n",
    "        for mes in range(mes_desde, mes_hasta + 1):\n",
    "            \n",
    "            provincia = obtener_provincia(legajo, mes)\n",
    "            tipo_mni = 'especial' if provincia in provincias_especiales else 'normal'\n",
    "            montos_seg_zona = montos_cargas[tipo_mni]\n",
    "\n",
    "            monto_mensual = montos_seg_zona[parentesco] * porcentaje_deduccion / 100\n",
    "\n",
    "            df_mes = apertura_deducciones_por_mes(cuil, tipo_deduccion, mes, mes, monto_mensual)\n",
    "            df_out = pd.concat([df_out, df_mes])\n",
    "        \n",
    "        return df_out \n"
   ]
  },
  {
   "cell_type": "code",
   "execution_count": 12,
   "metadata": {},
   "outputs": [],
   "source": [
    "def cargas_por_mes(xml):\n",
    "\n",
    "    prefijo = \"Q-CargFam-\"\n",
    "\n",
    "    empleado = xml[\"presentacion\"][\"empleado\"][\"cuit\"]\n",
    "    cargas = xml[\"presentacion\"][\"cargasFamilia\"][\"cargaFamilia\"]\n",
    "    df_por_mes_cargas = pd.DataFrame([], columns=[\"cuil\", \"codigo\", \"importe\", \"mes\"])\n",
    "     \n",
    "    if isinstance(cargas, dict):\n",
    "        cargas = [cargas]\n",
    "\n",
    "\n",
    "    for i in cargas:\n",
    "        parentesco = int(i[\"parentesco\"])\n",
    "        tipo_deduccion_carga = i[\"parentesco\"]\n",
    "        porcentaje_deduccion = int(i[\"porcentajeDeduccion\"])\n",
    "        mes_desde = int(i[\"mesDesde\"])\n",
    "        mes_hasta = int(i[\"mesHasta\"])\n",
    "\n",
    "        df = apertura_cargas_por_mes(empleado, prefijo + tipo_deduccion_carga, mes_desde, mes_hasta, parentesco, porcentaje_deduccion)    \n",
    "        df_por_mes_cargas = pd.concat([df_por_mes_cargas, df], ignore_index=True)\n",
    "        \n",
    "        \n",
    "    return(df_por_mes_cargas)"
   ]
  },
  {
   "cell_type": "code",
   "execution_count": 13,
   "metadata": {},
   "outputs": [],
   "source": [
    "# path = \"../bases-ganancias-2022/in/formularios572/20281781503_2022_presentacion_002.xml\"\n",
    "\n",
    "# with open(path, encoding='utf-8') as f:\n",
    "#     xml = xmltodict.parse(f.read())\n",
    "\n",
    "\n",
    "# cargas_por_mes(xml)"
   ]
  },
  {
   "cell_type": "code",
   "execution_count": 14,
   "metadata": {},
   "outputs": [],
   "source": [
    "CODIGOS_DEDUCC_MENSUAL = [1, 3, 4, 5, 8, 11, 22, 32] #solamente dejar los que necesito que se procesen mensualmente\n",
    "\n",
    "def deducciones_totales_por_mes(xml):\n",
    "\n",
    "    prefijo = \"Q-Deduc-\"\n",
    "\n",
    "    empleado = xml[\"presentacion\"][\"empleado\"][\"cuit\"]\n",
    "    deducciones = xml[\"presentacion\"][\"deducciones\"][\"deduccion\"]\n",
    "    df_por_mes = pd.DataFrame([], columns=[\"cuil\", \"codigo\", \"importe\", \"mes\"])\n",
    "    \n",
    "    if isinstance(deducciones, dict):\n",
    "        deducciones = [deducciones]\n",
    "    \n",
    "    for i in deducciones:\n",
    "        tipo_deduccion = int(i[\"@tipo\"])\n",
    "        if tipo_deduccion in CODIGOS_DEDUCC_MENSUAL:\n",
    "            periodo = i[\"periodos\"][\"periodo\"]\n",
    "            \n",
    "            #compruebo si es un diccionario y lo paso a listsa\n",
    "            if isinstance(periodo, dict):\n",
    "                periodo = [periodo]\n",
    "            \n",
    "            #para cada vaalor, determino los valores, ya sea que tengo una deduccion o muchas\n",
    "            for j in periodo: \n",
    "                mes_desde = int(j[\"@mesDesde\"])\n",
    "                mes_hasta = int(j[\"@mesHasta\"])\n",
    "                monto_mensual = float(j[\"@montoMensual\"])\n",
    "                df = apertura_deducciones_por_mes(empleado, prefijo + str(tipo_deduccion), mes_desde, mes_hasta, monto_mensual)\n",
    "                df_por_mes = pd.concat([df_por_mes, df], ignore_index=True)            \n",
    "        else:\n",
    "            monto_anual = float(i[\"montoTotal\"])\n",
    "            df = apertura_deducciones_por_mes(empleado, prefijo + str(tipo_deduccion), 13, 13, monto_anual)\n",
    "            df_por_mes = pd.concat([df_por_mes, df], ignore_index=True)\n",
    "\n",
    "    return df_por_mes\n"
   ]
  },
  {
   "cell_type": "code",
   "execution_count": 15,
   "metadata": {},
   "outputs": [],
   "source": [
    "def df_otro_empleador(xml):\n",
    "\n",
    "    prefijo = 'Q-OE-'\n",
    "\n",
    "    empleado = xml[\"presentacion\"][\"empleado\"][\"cuit\"]\n",
    "    ingresos_oe = xml[\"presentacion\"][\"ganLiqOtrosEmpEnt\"][\"empEnt\"][\"ingresosAportes\"][\"ingAp\"]\n",
    "    df_otro_empleador = pd.DataFrame([], columns=[\"cuil\", \"codigo\", \"importe\", \"mes\"])\n",
    "\n",
    "    if isinstance(ingresos_oe, dict):\n",
    "        ingresos_oe = [ingresos_oe]\n",
    "\n",
    "    for mes in ingresos_oe:\n",
    "        for k in list(mes.keys()):\n",
    "            if k == \"@mes\":\n",
    "                continue \n",
    "            valor = float(mes[k])\n",
    "            if valor != 0:\n",
    "                datos_df_oe = [empleado, prefijo + k, valor, int(mes[\"@mes\"])]\n",
    "                df_oe_new = pd.DataFrame([datos_df_oe], columns=[\"cuil\", \"codigo\", \"importe\", \"mes\"])\n",
    "                df_otro_empleador = pd.concat([df_otro_empleador, df_oe_new], ignore_index=True)\n",
    "        \n",
    "    return(df_otro_empleador)\n"
   ]
  },
  {
   "cell_type": "code",
   "execution_count": 16,
   "metadata": {},
   "outputs": [],
   "source": [
    "def df_ret_per_pago(xml):\n",
    "\n",
    "    prefijo = 'Q-RetPerPagCu-'\n",
    "\n",
    "    empleado = xml[\"presentacion\"][\"empleado\"][\"cuit\"]\n",
    "    rpp = xml[\"presentacion\"][\"retPerPagos\"][\"retPerPago\"]\n",
    "    df_por_rrp = pd.DataFrame([], columns=[\"cuil\", \"codigo\", \"importe\", \"mes\"])\n",
    "    \n",
    "    if isinstance(rpp, dict):\n",
    "        rpp = [rpp]\n",
    "    \n",
    "    for i in rpp:\n",
    "        tipo_deduccion = int(i[\"@tipo\"])            \n",
    "        monto_mensual = float(i[\"montoTotal\"])\n",
    "        datos_df_rpp = [empleado, prefijo + str(tipo_deduccion), monto_mensual, 13]\n",
    "        df = pd.DataFrame([datos_df_rpp], columns=[\"cuil\", \"codigo\", \"importe\", \"mes\"])\n",
    "        df_por_rrp = pd.concat([df_por_rrp, df], ignore_index=True) \n",
    "\n",
    "    return df_por_rrp"
   ]
  },
  {
   "cell_type": "code",
   "execution_count": 17,
   "metadata": {},
   "outputs": [],
   "source": [
    "carpeta_xml = \"../bases-ganancias-2022/in/formularios572/\""
   ]
  },
  {
   "cell_type": "code",
   "execution_count": 18,
   "metadata": {},
   "outputs": [],
   "source": [
    "from helpers.progressbar import ProgressBar\n",
    "def deducciones_finales(carpeta):\n",
    "\n",
    "    listdir(carpeta_xml)\n",
    "    df_deducciones = pd.DataFrame()\n",
    "\n",
    "    p = ProgressBar(len(listdir(carpeta_xml)), segmentos=120)\n",
    "    for a in listdir(carpeta_xml):\n",
    "        path = carpeta_xml + \"\\\\\" + a\n",
    "\n",
    "        with open(path, encoding='utf-8') as f:\n",
    "            xml = xmltodict.parse(f.read())\n",
    "\n",
    "            if \"deducciones\" in xml[\"presentacion\"]:\n",
    "                df_deducc_mes_por_empleado = deducciones_totales_por_mes(xml)\n",
    "                df_deducciones = pd.concat([df_deducc_mes_por_empleado, df_deducciones], ignore_index=True)\n",
    "\n",
    "            if \"cargasFamilia\" in xml[\"presentacion\"]:\n",
    "                df_cargas_por_empleado_mes = cargas_por_mes(xml)\n",
    "                df_deducciones = pd.concat([df_cargas_por_empleado_mes, df_deducciones], ignore_index=True)\n",
    "\n",
    "            if \"ganLiqOtrosEmpEnt\" in xml[\"presentacion\"]:\n",
    "                df_ing_aport_otro_empleador = df_otro_empleador(xml)\n",
    "                df_deducciones = pd.concat([df_ing_aport_otro_empleador, df_deducciones], ignore_index=True)\n",
    "\n",
    "            if \"retPerPagos\" in xml[\"presentacion\"]:\n",
    "                df_rpp = df_ret_per_pago(xml)\n",
    "                df_deducciones= pd.concat([df_rpp, df_deducciones], ignore_index=True)\n",
    "\n",
    "        p.next()\n",
    "                \n",
    "    return(df_deducciones)\n"
   ]
  },
  {
   "cell_type": "code",
   "execution_count": 21,
   "metadata": {},
   "outputs": [
    {
     "data": {
      "text/plain": [
       "6105072"
      ]
     },
     "execution_count": 21,
     "metadata": {},
     "output_type": "execute_result"
    }
   ],
   "source": [
    "obtener_legajo(20243548684)"
   ]
  },
  {
   "cell_type": "code",
   "execution_count": 20,
   "metadata": {},
   "outputs": [
    {
     "name": "stdout",
     "output_type": "stream",
     "text": [
      "|████████████████████░░░░░░░░░░░░░░░░░░░░░░░░░░░░░░░░░░░░░░░░░░░░░░░░░░░░░░░░░░░░░░░░░░░░░░░░░░░░░░░░░░░░░░░░░░░░░░░░░░░░| 16.67 %\n",
      "20242371527\n",
      "20242428464\n",
      "20242740654\n",
      "20242740654\n",
      "20242740654\n",
      "20242740654\n",
      "20242752903\n",
      "20242752903\n",
      "20242752903\n",
      "20242866100\n",
      "20242866100\n",
      "20243169128\n",
      "20243181012\n",
      "20243181012\n",
      "20243181012\n",
      "20243181012\n",
      "20243188548\n",
      "20243370028\n",
      "20243370028\n",
      "20243370028\n",
      "20243370028\n",
      "20243548684\n"
     ]
    },
    {
     "ename": "TypeError",
     "evalue": "obtener_provincia() takes 1 positional argument but 2 were given",
     "output_type": "error",
     "traceback": [
      "\u001b[1;31m---------------------------------------------------------------------------\u001b[0m",
      "\u001b[1;31mTypeError\u001b[0m                                 Traceback (most recent call last)",
      "Cell \u001b[1;32mIn[20], line 1\u001b[0m\n\u001b[1;32m----> 1\u001b[0m df \u001b[39m=\u001b[39m deducciones_finales(carpeta_xml)\n",
      "Cell \u001b[1;32mIn[18], line 19\u001b[0m, in \u001b[0;36mdeducciones_finales\u001b[1;34m(carpeta)\u001b[0m\n\u001b[0;32m     16\u001b[0m     df_deducciones \u001b[39m=\u001b[39m pd\u001b[39m.\u001b[39mconcat([df_deducc_mes_por_empleado, df_deducciones], ignore_index\u001b[39m=\u001b[39m\u001b[39mTrue\u001b[39;00m)\n\u001b[0;32m     18\u001b[0m \u001b[39mif\u001b[39;00m \u001b[39m\"\u001b[39m\u001b[39mcargasFamilia\u001b[39m\u001b[39m\"\u001b[39m \u001b[39min\u001b[39;00m xml[\u001b[39m\"\u001b[39m\u001b[39mpresentacion\u001b[39m\u001b[39m\"\u001b[39m]:\n\u001b[1;32m---> 19\u001b[0m     df_cargas_por_empleado_mes \u001b[39m=\u001b[39m cargas_por_mes(xml)\n\u001b[0;32m     20\u001b[0m     df_deducciones \u001b[39m=\u001b[39m pd\u001b[39m.\u001b[39mconcat([df_cargas_por_empleado_mes, df_deducciones], ignore_index\u001b[39m=\u001b[39m\u001b[39mTrue\u001b[39;00m)\n\u001b[0;32m     22\u001b[0m \u001b[39mif\u001b[39;00m \u001b[39m\"\u001b[39m\u001b[39mganLiqOtrosEmpEnt\u001b[39m\u001b[39m\"\u001b[39m \u001b[39min\u001b[39;00m xml[\u001b[39m\"\u001b[39m\u001b[39mpresentacion\u001b[39m\u001b[39m\"\u001b[39m]:\n",
      "Cell \u001b[1;32mIn[12], line 20\u001b[0m, in \u001b[0;36mcargas_por_mes\u001b[1;34m(xml)\u001b[0m\n\u001b[0;32m     17\u001b[0m     mes_desde \u001b[39m=\u001b[39m \u001b[39mint\u001b[39m(i[\u001b[39m\"\u001b[39m\u001b[39mmesDesde\u001b[39m\u001b[39m\"\u001b[39m])\n\u001b[0;32m     18\u001b[0m     mes_hasta \u001b[39m=\u001b[39m \u001b[39mint\u001b[39m(i[\u001b[39m\"\u001b[39m\u001b[39mmesHasta\u001b[39m\u001b[39m\"\u001b[39m])\n\u001b[1;32m---> 20\u001b[0m     df \u001b[39m=\u001b[39m apertura_cargas_por_mes(empleado, prefijo \u001b[39m+\u001b[39;49m tipo_deduccion_carga, mes_desde, mes_hasta, parentesco, porcentaje_deduccion)    \n\u001b[0;32m     21\u001b[0m     df_por_mes_cargas \u001b[39m=\u001b[39m pd\u001b[39m.\u001b[39mconcat([df_por_mes_cargas, df], ignore_index\u001b[39m=\u001b[39m\u001b[39mTrue\u001b[39;00m)\n\u001b[0;32m     24\u001b[0m \u001b[39mreturn\u001b[39;00m(df_por_mes_cargas)\n",
      "Cell \u001b[1;32mIn[11], line 23\u001b[0m, in \u001b[0;36mapertura_cargas_por_mes\u001b[1;34m(cuil, tipo_deduccion, mes_desde, mes_hasta, parentesco, porcentaje_deduccion)\u001b[0m\n\u001b[0;32m     20\u001b[0m df_out \u001b[39m=\u001b[39m pd\u001b[39m.\u001b[39mDataFrame()\n\u001b[0;32m     21\u001b[0m \u001b[39mfor\u001b[39;00m mes \u001b[39min\u001b[39;00m \u001b[39mrange\u001b[39m(mes_desde, mes_hasta \u001b[39m+\u001b[39m \u001b[39m1\u001b[39m):\n\u001b[1;32m---> 23\u001b[0m     provincia \u001b[39m=\u001b[39m obtener_provincia(cuil, mes)\n\u001b[0;32m     24\u001b[0m     tipo_mni \u001b[39m=\u001b[39m \u001b[39m'\u001b[39m\u001b[39mespecial\u001b[39m\u001b[39m'\u001b[39m \u001b[39mif\u001b[39;00m provincia \u001b[39min\u001b[39;00m provincias_especiales \u001b[39melse\u001b[39;00m \u001b[39m'\u001b[39m\u001b[39mnormal\u001b[39m\u001b[39m'\u001b[39m\n\u001b[0;32m     25\u001b[0m     montos_seg_zona \u001b[39m=\u001b[39m montos_cargas[tipo_mni]\n",
      "\u001b[1;31mTypeError\u001b[0m: obtener_provincia() takes 1 positional argument but 2 were given"
     ]
    }
   ],
   "source": [
    "df = deducciones_finales(carpeta_xml)\n"
   ]
  },
  {
   "cell_type": "code",
   "execution_count": null,
   "metadata": {},
   "outputs": [],
   "source": [
    "df.to_clipboard()"
   ]
  },
  {
   "cell_type": "code",
   "execution_count": null,
   "metadata": {},
   "outputs": [],
   "source": [
    "df.to_excel(\"deducciones_572web.xlsx\")"
   ]
  },
  {
   "cell_type": "code",
   "execution_count": null,
   "metadata": {},
   "outputs": [],
   "source": [
    "codigos = list(df['codigo'].unique())\n",
    "codigos.sort()\n",
    "for c in codigos:\n",
    "    print(c)"
   ]
  },
  {
   "cell_type": "code",
   "execution_count": null,
   "metadata": {},
   "outputs": [],
   "source": [
    "df.to_parquet('../bases-ganancias-2022/middle/572web.parquet', compression='brotli')"
   ]
  }
 ],
 "metadata": {
  "kernelspec": {
   "display_name": "Python 3",
   "language": "python",
   "name": "python3"
  },
  "language_info": {
   "codemirror_mode": {
    "name": "ipython",
    "version": 3
   },
   "file_extension": ".py",
   "mimetype": "text/x-python",
   "name": "python",
   "nbconvert_exporter": "python",
   "pygments_lexer": "ipython3",
   "version": "3.10.10"
  },
  "orig_nbformat": 4,
  "vscode": {
   "interpreter": {
    "hash": "cf96b071f30a396d8273bc9670241b6b166737f53a0dff988ecce5da7654d899"
   }
  }
 },
 "nbformat": 4,
 "nbformat_minor": 2
}
