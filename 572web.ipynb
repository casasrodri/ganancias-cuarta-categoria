{
 "cells": [
  {
   "cell_type": "code",
   "execution_count": 1,
   "metadata": {},
   "outputs": [],
   "source": [
    "import xml.etree.ElementTree as ET"
   ]
  },
  {
   "cell_type": "code",
   "execution_count": 2,
   "metadata": {},
   "outputs": [],
   "source": [
    "tree = ET.parse(\"23180821309_2022_presentacion_001.xml\")\n",
    "root = tree.getroot()"
   ]
  },
  {
   "cell_type": "code",
   "execution_count": 3,
   "metadata": {},
   "outputs": [
    {
     "data": {
      "text/plain": [
       "'presentacion'"
      ]
     },
     "execution_count": 3,
     "metadata": {},
     "output_type": "execute_result"
    }
   ],
   "source": [
    "root.tag"
   ]
  },
  {
   "cell_type": "code",
   "execution_count": 5,
   "metadata": {},
   "outputs": [
    {
     "name": "stdout",
     "output_type": "stream",
     "text": [
      "periodo {}\n",
      "nroPresentacion {}\n",
      "fechaPresentacion {}\n",
      "empleado {}\n",
      "deducciones {}\n"
     ]
    }
   ],
   "source": [
    "for child in root:\n",
    "    print(child.tag, child.attrib)"
   ]
  },
  {
   "cell_type": "code",
   "execution_count": 4,
   "metadata": {},
   "outputs": [
    {
     "data": {
      "text/plain": [
       "{}"
      ]
     },
     "execution_count": 4,
     "metadata": {},
     "output_type": "execute_result"
    }
   ],
   "source": [
    "root.attrib"
   ]
  },
  {
   "cell_type": "code",
   "execution_count": 7,
   "metadata": {},
   "outputs": [
    {
     "name": "stdout",
     "output_type": "stream",
     "text": [
      "end\n",
      "mytag text= sometext more text\n"
     ]
    }
   ],
   "source": [
    "parser = ET.XMLPullParser(['start', 'end'])\n",
    "parser.feed('<mytag>sometext')\n",
    "list(parser.read_events())\n",
    "parser.feed(' more text</mytag>')\n",
    "for event, elem in parser.read_events():\n",
    "    print(event)\n",
    "    print(elem.tag, 'text=', elem.text)"
   ]
  },
  {
   "cell_type": "code",
   "execution_count": null,
   "metadata": {},
   "outputs": [],
   "source": [
    "#xmltodcit"
   ]
  },
  {
   "cell_type": "code",
   "execution_count": 43,
   "metadata": {},
   "outputs": [
    {
     "data": {
      "text/plain": [
       "{'presentacion': {'periodo': '2022',\n",
       "  'nroPresentacion': '1',\n",
       "  'fechaPresentacion': '2022-12-21',\n",
       "  'empleado': {'cuit': '23180821309',\n",
       "   'tipoDoc': '80',\n",
       "   'apellido': 'SINASTRA',\n",
       "   'nombre': 'PABLO EDUARDO',\n",
       "   'direccion': {'provincia': '3',\n",
       "    'cp': '5008',\n",
       "    'localidad': 'BARRIO POETA LUGONES',\n",
       "    'calle': 'OLGA OROZCO',\n",
       "    'nro': '3210'}},\n",
       "  'deducciones': {'deduccion': {'@tipo': '3',\n",
       "    'tipoDoc': '80',\n",
       "    'nroDoc': '30660569517',\n",
       "    'denominacion': 'REMAR ARGENTINA',\n",
       "    'descBasica': '30660569517 - REMAR ARGENTINA',\n",
       "    'montoTotal': '854500',\n",
       "    'periodos': {'periodo': {'@mesDesde': '12',\n",
       "      '@mesHasta': '12',\n",
       "      '@montoMensual': '854500'}}}}}}"
      ]
     },
     "execution_count": 43,
     "metadata": {},
     "output_type": "execute_result"
    }
   ],
   "source": [
    "import xmltodict\n",
    "\n",
    "with open('./23180821309_2022_presentacion_001.xml') as archivo:\n",
    "    diccionario = xmltodict.parse(archivo.read())\n",
    "\n",
    "diccionario"
   ]
  },
  {
   "cell_type": "code",
   "execution_count": 9,
   "metadata": {},
   "outputs": [
    {
     "name": "stdout",
     "output_type": "stream",
     "text": [
      "start <Element 'presentacion' at 0x000001A02A827330> presentacion {}\n",
      "start <Element 'periodo' at 0x000001A02A8DD490> periodo {}\n",
      "end <Element 'periodo' at 0x000001A02A8DD490> periodo {}\n",
      "start <Element 'nroPresentacion' at 0x000001A02A8DC090> nroPresentacion {}\n",
      "end <Element 'nroPresentacion' at 0x000001A02A8DC090> nroPresentacion {}\n",
      "start <Element 'fechaPresentacion' at 0x000001A02A8DC4A0> fechaPresentacion {}\n",
      "end <Element 'fechaPresentacion' at 0x000001A02A8DC4A0> fechaPresentacion {}\n",
      "start <Element 'empleado' at 0x000001A02A8DC2C0> empleado {}\n",
      "start <Element 'cuit' at 0x000001A02A8DC3B0> cuit {}\n",
      "end <Element 'cuit' at 0x000001A02A8DC3B0> cuit {}\n",
      "start <Element 'tipoDoc' at 0x000001A02A8DC720> tipoDoc {}\n",
      "end <Element 'tipoDoc' at 0x000001A02A8DC720> tipoDoc {}\n",
      "start <Element 'apellido' at 0x000001A02A8DCC70> apellido {}\n",
      "end <Element 'apellido' at 0x000001A02A8DCC70> apellido {}\n",
      "start <Element 'nombre' at 0x000001A02CAE0090> nombre {}\n",
      "end <Element 'nombre' at 0x000001A02CAE0090> nombre {}\n",
      "start <Element 'direccion' at 0x000001A02CAE00E0> direccion {}\n",
      "start <Element 'provincia' at 0x000001A02CAE0040> provincia {}\n",
      "end <Element 'provincia' at 0x000001A02CAE0040> provincia {}\n",
      "start <Element 'cp' at 0x000001A02CAE0130> cp {}\n",
      "end <Element 'cp' at 0x000001A02CAE0130> cp {}\n",
      "start <Element 'localidad' at 0x000001A02CAE0180> localidad {}\n",
      "end <Element 'localidad' at 0x000001A02CAE0180> localidad {}\n",
      "start <Element 'calle' at 0x000001A02CAE0220> calle {}\n",
      "end <Element 'calle' at 0x000001A02CAE0220> calle {}\n",
      "start <Element 'nro' at 0x000001A02CAE0270> nro {}\n",
      "end <Element 'nro' at 0x000001A02CAE0270> nro {}\n",
      "end <Element 'direccion' at 0x000001A02CAE00E0> direccion {}\n",
      "end <Element 'empleado' at 0x000001A02A8DC2C0> empleado {}\n",
      "start <Element 'deducciones' at 0x000001A02CAE0450> deducciones {}\n",
      "start <Element 'deduccion' at 0x000001A02CAE0400> deduccion {'tipo': '3'}\n",
      "start <Element 'tipoDoc' at 0x000001A02CAE03B0> tipoDoc {}\n",
      "end <Element 'tipoDoc' at 0x000001A02CAE03B0> tipoDoc {}\n",
      "start <Element 'nroDoc' at 0x000001A02CAE04A0> nroDoc {}\n",
      "end <Element 'nroDoc' at 0x000001A02CAE04A0> nroDoc {}\n",
      "start <Element 'denominacion' at 0x000001A02CAE04F0> denominacion {}\n",
      "end <Element 'denominacion' at 0x000001A02CAE04F0> denominacion {}\n",
      "start <Element 'descBasica' at 0x000001A02CAE05E0> descBasica {}\n",
      "end <Element 'descBasica' at 0x000001A02CAE05E0> descBasica {}\n",
      "start <Element 'montoTotal' at 0x000001A02CAE06D0> montoTotal {}\n",
      "end <Element 'montoTotal' at 0x000001A02CAE06D0> montoTotal {}\n",
      "start <Element 'periodos' at 0x000001A02CAE0630> periodos {}\n",
      "start <Element 'periodo' at 0x000001A02CAE0720> periodo {'mesDesde': '12', 'mesHasta': '12', 'montoMensual': '854500'}\n",
      "end <Element 'periodo' at 0x000001A02CAE0720> periodo {'mesDesde': '12', 'mesHasta': '12', 'montoMensual': '854500'}\n",
      "end <Element 'periodos' at 0x000001A02CAE0630> periodos {}\n",
      "end <Element 'deduccion' at 0x000001A02CAE0400> deduccion {'tipo': '3'}\n",
      "end <Element 'deducciones' at 0x000001A02CAE0450> deducciones {}\n",
      "end <Element 'presentacion' at 0x000001A02A827330> presentacion {}\n"
     ]
    }
   ],
   "source": [
    "import xml.etree.ElementTree as etree\n",
    "for event, elem in etree.iterparse(\"23180821309_2022_presentacion_001.xml\",events=(\"start\", \"end\")):\n",
    "    print(event,elem,elem.tag,elem.attrib)"
   ]
  }
 ],
 "metadata": {
  "kernelspec": {
   "display_name": "Python 3",
   "language": "python",
   "name": "python3"
  },
  "language_info": {
   "codemirror_mode": {
    "name": "ipython",
    "version": 3
   },
   "file_extension": ".py",
   "mimetype": "text/x-python",
   "name": "python",
   "nbconvert_exporter": "python",
   "pygments_lexer": "ipython3",
   "version": "3.10.7"
  },
  "orig_nbformat": 4
 },
 "nbformat": 4,
 "nbformat_minor": 2
}
