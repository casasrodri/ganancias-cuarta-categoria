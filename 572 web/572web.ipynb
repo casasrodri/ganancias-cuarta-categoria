{
 "cells": [
  {
   "cell_type": "code",
   "execution_count": 19,
   "metadata": {},
   "outputs": [],
   "source": [
    "import xmltodict \n",
    "import pandas as pd\n",
    "from os import listdir\n",
    "import os\n"
   ]
  },
  {
   "attachments": {},
   "cell_type": "markdown",
   "metadata": {},
   "source": [
    "### COMPOSICIÓN DEL XML"
   ]
  },
  {
   "attachments": {},
   "cell_type": "markdown",
   "metadata": {},
   "source": [
    "<presentacion>\n",
    "    <periodo>…</periodo>\n",
    "    <nroPresentacion>…</nroPresentacion>\n",
    "    <fechaPresentacion>…</fechaPresentacion>\n",
    "    <empleado>…</empleado>\n",
    "    <cargasFamilia>…</cargasFamilia>\n",
    "    <ganLiqOtrosEmpEnt>…</ganLiqOtrosEmpEnt>\n",
    "    <deducciones>…</deducciones>\n",
    "    <retPerPagos>…</retPerPagos>\n",
    "    <ajustes>…</ajustes>\n",
    "    <datosAdicionales>…</datosAdicionales>\n",
    "<presentacion>"
   ]
  },
  {
   "cell_type": "code",
   "execution_count": 22,
   "metadata": {},
   "outputs": [],
   "source": [
    "def apertura_deducciones_por_mes(empleado, tipo_deduccion, mes_desde, mes_hasta, monto_mensual):\n",
    "    '''\n",
    "    Esta funcion devuelve un df con la cantidad de registros necesarios, segun el intervalo desde hasta (periodo) por cada deducción.\n",
    "    '''\n",
    "    datos_572 = [[empleado, tipo_deduccion, monto_mensual]]\n",
    "    df_datos_572 = pd.DataFrame(datos_572, columns=[\"cuil\",\"codigo\", \"importe\"])\n",
    "\n",
    "    cant_filas = (mes_hasta - mes_desde + 1)\n",
    "\n",
    "    df_datos_572 = pd.concat([df_datos_572]*cant_filas, ignore_index=True)\n",
    "\n",
    "    nueva_columna = []\n",
    "\n",
    "    for i in range(14):\n",
    "        if mes_desde <= i <= mes_hasta: \n",
    "            nueva_columna.append(i)\n",
    "\n",
    "    for index, fila in df_datos_572.iterrows():\n",
    "        mes = mes_desde\n",
    "        if mes <= mes_hasta:\n",
    "            df_datos_572[\"Mes\"] = nueva_columna\n",
    "            mes = mes_desde + 1\n",
    "\n",
    "    return df_datos_572\n"
   ]
  },
  {
   "cell_type": "code",
   "execution_count": 24,
   "metadata": {},
   "outputs": [],
   "source": [
    "montos_cargas = {\n",
    "    1 :     19621.44, \n",
    "    3 :     9895.16, \n",
    "    30 :    9895.16, \n",
    "    31 :    19790.33, \n",
    "    32:     19790.33,\n",
    "    51:     19621.44, # VER CON VALE\n",
    "    103:    0,\n",
    "}\n",
    "\n",
    "prefijo = \"Q-CargFam-\"\n",
    "\n",
    "def cargas_por_mes(xml):\n",
    "\n",
    "    empleado = xml[\"presentacion\"][\"empleado\"][\"cuit\"]\n",
    "    cargas = xml[\"presentacion\"][\"cargasFamilia\"][\"cargaFamilia\"]\n",
    "    df_por_mes_cargas = pd.DataFrame([], columns=[\"cuil\", \"codigo\", \"importe\", \"mes\"])\n",
    "        \n",
    "    if isinstance(cargas, dict):\n",
    "        cargas = [cargas]\n",
    "\n",
    "    for i in cargas:\n",
    "        parentesco = int(i[\"parentesco\"])\n",
    "        tipo_deduccion_carga = i[\"parentesco\"]\n",
    "        porcentaje_deduccion = int(i[\"porcentajeDeduccion\"])\n",
    "        mes_desde = int(i[\"mesDesde\"])\n",
    "        mes_hasta = int(i[\"mesHasta\"])\n",
    "\n",
    "        monto_mensual = montos_cargas[parentesco] * porcentaje_deduccion / 100\n",
    "\n",
    "        df = apertura_deducciones_por_mes(empleado, prefijo + tipo_deduccion_carga, mes_desde, mes_hasta, monto_mensual)\n",
    "        df_por_mes_cargas = pd.concat([df_por_mes_cargas, df], ignore_index=True)  \n",
    "\n",
    "    return(df_por_mes_cargas)\n",
    "\n"
   ]
  },
  {
   "cell_type": "code",
   "execution_count": 33,
   "metadata": {},
   "outputs": [],
   "source": [
    "CODIGOS_DEDUCC_MENSUAL = [1, 3, 4, 5, 8, 11, 21, 22, 32] #solamente dejar los que necesito que se procesen mensualmente\n",
    "prefijo = \"Q-Deduc-\"\n",
    "\n",
    "def deducciones_totales_por_mes(xml):\n",
    "\n",
    "    empleado = xml[\"presentacion\"][\"empleado\"][\"cuit\"]\n",
    "    deducciones = xml[\"presentacion\"][\"deducciones\"][\"deduccion\"]\n",
    "    df_por_mes = pd.DataFrame([], columns=[\"cuil\", \"codigo\", \"importe\", \"mes\"])\n",
    "    \n",
    "    if isinstance(deducciones, dict):\n",
    "        deducciones = [deducciones]\n",
    "    \n",
    "    for i in deducciones:\n",
    "        tipo_deduccion = int(i[\"@tipo\"])\n",
    "        if tipo_deduccion in CODIGOS_DEDUCC_MENSUAL:\n",
    "            periodo = i[\"periodos\"][\"periodo\"]\n",
    "            \n",
    "            #compruebo si es un diccionario y lo paso a listsa\n",
    "            if isinstance(periodo, dict):\n",
    "                periodo = [periodo]\n",
    "            \n",
    "            #para cada vaalor, determino los valores, ya sea que tengo una deduccion o muchas\n",
    "            for j in periodo: \n",
    "                mes_desde = int(j[\"@mesDesde\"])\n",
    "                mes_hasta = int(j[\"@mesHasta\"])\n",
    "                monto_mensual = float(j[\"@montoMensual\"])\n",
    "                df = apertura_deducciones_por_mes(empleado, prefijo + str(tipo_deduccion), mes_desde, mes_hasta, monto_mensual)\n",
    "                df_por_mes = pd.concat([df_por_mes, df], ignore_index=True)            \n",
    "        else:\n",
    "            monto_anual = float(i[\"montoTotal\"])\n",
    "            df = apertura_deducciones_por_mes(empleado, prefijo + str(tipo_deduccion), 13, 13, monto_anual)\n",
    "            df_por_mes = pd.concat([df_por_mes, df], ignore_index=True)\n",
    "\n",
    "    return df_por_mes\n"
   ]
  },
  {
   "cell_type": "code",
   "execution_count": 28,
   "metadata": {},
   "outputs": [],
   "source": [
    "prefijo = 'Q-OE-'\n",
    "    \n",
    "def df_otro_empleador(xml):\n",
    "\n",
    "    empleado = xml[\"presentacion\"][\"empleado\"][\"cuit\"]\n",
    "    ingresos_oe = xml[\"presentacion\"][\"ganLiqOtrosEmpEnt\"][\"empEnt\"][\"ingresosAportes\"][\"ingAp\"]\n",
    "    df_otro_empleador = pd.DataFrame([], columns=[\"cuil\", \"codigo\", \"importe\", \"mes\"])\n",
    "\n",
    "    if isinstance(ingresos_oe, dict):\n",
    "        ingresos_oe = [ingresos_oe]\n",
    "\n",
    "    for mes in ingresos_oe:\n",
    "        for k in list(mes.keys()):\n",
    "            if k == \"@mes\":\n",
    "                continue \n",
    "            valor = float(mes[k])\n",
    "            if valor != 0:\n",
    "                datos_df_oe = [empleado, prefijo + k, valor, int(mes[\"@mes\"])]\n",
    "                df_oe_new = pd.DataFrame([datos_df_oe], columns=[\"cuil\", \"codigo\", \"importe\", \"mes\"])\n",
    "                df_otro_empleador = pd.concat([df_otro_empleador, df_oe_new], ignore_index=True)\n",
    "        \n",
    "    return(df_otro_empleador)\n"
   ]
  },
  {
   "cell_type": "code",
   "execution_count": 29,
   "metadata": {},
   "outputs": [],
   "source": [
    "prefijo = 'Q-RetPerPagCu-'\n",
    "def df_ret_per_pago(xml):\n",
    "\n",
    "    empleado = xml[\"presentacion\"][\"empleado\"][\"cuit\"]\n",
    "    rpp = xml[\"presentacion\"][\"retPerPagos\"][\"retPerPago\"]\n",
    "    df_por_rrp = pd.DataFrame([], columns=[\"cuil\", \"codigo\", \"importe\", \"mes\"])\n",
    "    \n",
    "    if isinstance(rpp, dict):\n",
    "        rpp = [rpp]\n",
    "    \n",
    "    for i in rpp:\n",
    "        tipo_deduccion = int(i[\"@tipo\"])            \n",
    "        monto_mensual = float(i[\"montoTotal\"])\n",
    "        datos_df_rpp = [empleado, prefijo + str(tipo_deduccion), monto_mensual, 13]\n",
    "        df = pd.DataFrame([datos_df_rpp], columns=[\"cuil\", \"codigo\", \"importe\", \"mes\"])\n",
    "        df_por_rrp = pd.concat([df_por_rrp, df], ignore_index=True) \n",
    "\n",
    "    return df_por_rrp"
   ]
  },
  {
   "cell_type": "code",
   "execution_count": 30,
   "metadata": {},
   "outputs": [],
   "source": [
    "carpeta_xml = \"../../bases-ganancias-2022/in/formularios572/\""
   ]
  },
  {
   "cell_type": "code",
   "execution_count": 34,
   "metadata": {},
   "outputs": [],
   "source": [
    "def deducciones_finales(carpeta):\n",
    "\n",
    "    listdir(carpeta_xml)\n",
    "    df_deducciones = pd.DataFrame()\n",
    "\n",
    "    for a in listdir(carpeta_xml):\n",
    "        path = carpeta_xml + \"\\\\\" + a\n",
    "\n",
    "        with open(path) as f:\n",
    "            xml = xmltodict.parse(f.read())\n",
    "\n",
    "            if \"deducciones\" in xml[\"presentacion\"]:\n",
    "                df_deducc_mes_por_empleado = deducciones_totales_por_mes(xml)\n",
    "                df_deducciones = pd.concat([df_deducc_mes_por_empleado, df_deducciones], ignore_index=True)\n",
    "\n",
    "            if \"cargasFamilia\" in xml[\"presentacion\"]:\n",
    "                df_cargas_por_empleado_mes = cargas_por_mes(xml)\n",
    "                df_deducciones = pd.concat([df_cargas_por_empleado_mes, df_deducciones], ignore_index=True)\n",
    "\n",
    "            if \"ganLiqOtrosEmpEnt\" in xml[\"presentacion\"]:\n",
    "                df_ing_aport_otro_empleador = df_otro_empleador(xml)\n",
    "                df_deducciones = pd.concat([df_ing_aport_otro_empleador, df_deducciones], ignore_index=True)\n",
    "\n",
    "            if \"retPerPagos\" in xml[\"presentacion\"]:\n",
    "                df_rpp = df_ret_per_pago(xml)\n",
    "                df_deducciones= pd.concat([df_rpp, df_deducciones], ignore_index=True)\n",
    "                \n",
    "    return(df_deducciones)\n"
   ]
  },
  {
   "cell_type": "code",
   "execution_count": 35,
   "metadata": {},
   "outputs": [
    {
     "ename": "KeyError",
     "evalue": "51",
     "output_type": "error",
     "traceback": [
      "\u001b[1;31m---------------------------------------------------------------------------\u001b[0m",
      "\u001b[1;31mKeyError\u001b[0m                                  Traceback (most recent call last)",
      "Cell \u001b[1;32mIn[35], line 1\u001b[0m\n\u001b[1;32m----> 1\u001b[0m df \u001b[39m=\u001b[39m deducciones_finales(carpeta_xml)\n\u001b[0;32m      2\u001b[0m df\n",
      "Cell \u001b[1;32mIn[34], line 17\u001b[0m, in \u001b[0;36mdeducciones_finales\u001b[1;34m(carpeta)\u001b[0m\n\u001b[0;32m     14\u001b[0m     df_deducciones \u001b[39m=\u001b[39m pd\u001b[39m.\u001b[39mconcat([df_deducc_mes_por_empleado, df_deducciones], ignore_index\u001b[39m=\u001b[39m\u001b[39mTrue\u001b[39;00m)\n\u001b[0;32m     16\u001b[0m \u001b[39mif\u001b[39;00m \u001b[39m\"\u001b[39m\u001b[39mcargasFamilia\u001b[39m\u001b[39m\"\u001b[39m \u001b[39min\u001b[39;00m xml[\u001b[39m\"\u001b[39m\u001b[39mpresentacion\u001b[39m\u001b[39m\"\u001b[39m]:\n\u001b[1;32m---> 17\u001b[0m     df_cargas_por_empleado_mes \u001b[39m=\u001b[39m cargas_por_mes(xml)\n\u001b[0;32m     18\u001b[0m     df_deducciones \u001b[39m=\u001b[39m pd\u001b[39m.\u001b[39mconcat([df_cargas_por_empleado_mes, df_deducciones], ignore_index\u001b[39m=\u001b[39m\u001b[39mTrue\u001b[39;00m)\n\u001b[0;32m     20\u001b[0m \u001b[39mif\u001b[39;00m \u001b[39m\"\u001b[39m\u001b[39mganLiqOtrosEmpEnt\u001b[39m\u001b[39m\"\u001b[39m \u001b[39min\u001b[39;00m xml[\u001b[39m\"\u001b[39m\u001b[39mpresentacion\u001b[39m\u001b[39m\"\u001b[39m]:\n",
      "Cell \u001b[1;32mIn[24], line 28\u001b[0m, in \u001b[0;36mcargas_por_mes\u001b[1;34m(xml)\u001b[0m\n\u001b[0;32m     25\u001b[0m mes_desde \u001b[39m=\u001b[39m \u001b[39mint\u001b[39m(i[\u001b[39m\"\u001b[39m\u001b[39mmesDesde\u001b[39m\u001b[39m\"\u001b[39m])\n\u001b[0;32m     26\u001b[0m mes_hasta \u001b[39m=\u001b[39m \u001b[39mint\u001b[39m(i[\u001b[39m\"\u001b[39m\u001b[39mmesHasta\u001b[39m\u001b[39m\"\u001b[39m])\n\u001b[1;32m---> 28\u001b[0m monto_mensual \u001b[39m=\u001b[39m montos_cargas[parentesco] \u001b[39m*\u001b[39m porcentaje_deduccion \u001b[39m/\u001b[39m \u001b[39m100\u001b[39m\n\u001b[0;32m     30\u001b[0m df \u001b[39m=\u001b[39m apertura_deducciones_por_mes(empleado, prefijo \u001b[39m+\u001b[39m tipo_deduccion_carga, mes_desde, mes_hasta, monto_mensual)\n\u001b[0;32m     31\u001b[0m df_por_mes_cargas \u001b[39m=\u001b[39m pd\u001b[39m.\u001b[39mconcat([df_por_mes_cargas, df], ignore_index\u001b[39m=\u001b[39m\u001b[39mTrue\u001b[39;00m)  \n",
      "\u001b[1;31mKeyError\u001b[0m: 51"
     ]
    }
   ],
   "source": [
    "df = deducciones_finales(carpeta_xml)\n",
    "df\n"
   ]
  },
  {
   "cell_type": "code",
   "execution_count": 21,
   "metadata": {},
   "outputs": [],
   "source": [
    "#df.to_parquet('../../bases-ganancias-2022/middle/572web.parquet', compression='brotli')"
   ]
  },
  {
   "cell_type": "code",
   "execution_count": 17,
   "metadata": {},
   "outputs": [
    {
     "data": {
      "text/plain": [
       "['C3',\n",
       " 'D7',\n",
       " 'D8',\n",
       " 'RPP-27',\n",
       " 'RPP-28',\n",
       " 'D1',\n",
       " 'D2',\n",
       " None,\n",
       " 'C1',\n",
       " 'D3',\n",
       " 'D4',\n",
       " 'D21',\n",
       " 'D23',\n",
       " 'D24',\n",
       " 'D99',\n",
       " 'D22',\n",
       " 'C31',\n",
       " 'D9',\n",
       " 'C32']"
      ]
     },
     "metadata": {},
     "output_type": "display_data"
    },
    {
     "data": {
      "text/plain": [
       "[None, 'OE-obraSoc', 'OE-segSoc', 'OE-ganBrut', 'OE-sac']"
      ]
     },
     "metadata": {},
     "output_type": "display_data"
    }
   ],
   "source": [
    "import pandas as pd\n",
    "df = pd.read_parquet('../../bases-ganancias-2022/middle/572web.parquet')\n",
    "\n",
    "display(list(df['Deduccion'].unique()))\n",
    "display(list(df['Descripción'].unique()))"
   ]
  }
 ],
 "metadata": {
  "kernelspec": {
   "display_name": "Python 3",
   "language": "python",
   "name": "python3"
  },
  "language_info": {
   "codemirror_mode": {
    "name": "ipython",
    "version": 3
   },
   "file_extension": ".py",
   "mimetype": "text/x-python",
   "name": "python",
   "nbconvert_exporter": "python",
   "pygments_lexer": "ipython3",
   "version": "3.10.10"
  },
  "orig_nbformat": 4,
  "vscode": {
   "interpreter": {
    "hash": "cf96b071f30a396d8273bc9670241b6b166737f53a0dff988ecce5da7654d899"
   }
  }
 },
 "nbformat": 4,
 "nbformat_minor": 2
}
