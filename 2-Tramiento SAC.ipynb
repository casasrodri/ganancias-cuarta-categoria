{
 "cells": [
  {
   "attachments": {},
   "cell_type": "markdown",
   "metadata": {},
   "source": [
    "# Tratamiento SAC"
   ]
  },
  {
   "cell_type": "code",
   "execution_count": 62,
   "metadata": {},
   "outputs": [],
   "source": [
    "#importo las librerías que voy a usar\n",
    "\n",
    "import pandas as pd\n",
    "from data import CWTR, CWTR_SUM, DOTACION, CUILES\n",
    "from deducciones.incremental.calculo import *\n",
    "import empleado as ee\n",
    "from helpers.bases import tabla\n",
    "import numpy as np\n"
   ]
  },
  {
   "attachments": {},
   "cell_type": "markdown",
   "metadata": {},
   "source": [
    "### Cálculo del SAC correspondiente a cada semestre"
   ]
  },
  {
   "cell_type": "code",
   "execution_count": 2,
   "metadata": {},
   "outputs": [],
   "source": [
    "#filtro el df que tiene todos los conceptos y dejo solamente el del SAC\n",
    "\n",
    "df1 = CWTR_SUM\n",
    "df_sac = CWTR_SUM\n",
    "df_sac = df_sac[df_sac[\"CCn\"].eq(\"/S02\")]\n",
    "\n",
    "#determino una lista con los meses que corresponden a cada semestre para luego agrupar\n",
    "\n",
    "mes_1er_Sem = [1, 2, 3, 4, 5, 6]\n",
    "mes_2do_Sem = [7, 8, 9, 10, 11, 12]\n",
    "\n",
    "# creo df con el filtro correspondiente a cada semestre\n",
    "\n",
    "df_1erSem = df_sac[df_sac['mes'].isin(mes_1er_Sem)]\n",
    "df_2doSem = df_sac[df_sac['mes'].isin(mes_2do_Sem)]\n",
    "\n",
    "#como tengo varios sac por mes, los agrupo para que me quede uno por cada semestre\n",
    "\n",
    "df_1erSem = df_1erSem.groupby(['legajo','CCn'])['importe'].sum().reset_index() \n",
    "df_2doSem = df_2doSem.groupby(['legajo','CCn'])['importe'].sum().reset_index() \n"
   ]
  },
  {
   "cell_type": "code",
   "execution_count": 59,
   "metadata": {},
   "outputs": [],
   "source": [
    "#me traigo las remuneraciones para determinar si el SAC queda gravado o exento\n",
    "\n",
    "bases_tramos = tabla(\"bases_tramos\")\n",
    "\n",
    "#quito todos los valores que tengan cero ya que no debo tomarlos en el promedio \n",
    "bases_tramos_sin_ceros = bases_tramos[bases_tramos[\"Importe\"] != 0]\n",
    "\n",
    "#creo un df por cada semestre y agrupo segun el legajo, calculando el promedio\n",
    "filtro_1erSem = bases_tramos_sin_ceros[bases_tramos_sin_ceros[\"mes\"].isin(mes_1er_Sem)]\n",
    "filtro_1erSem = filtro_1erSem.groupby(['legajo'])['Importe'].mean().reset_index() \n",
    "filtro_2doSem = bases_tramos_sin_ceros[bases_tramos_sin_ceros[\"mes\"].isin(mes_2do_Sem)]\n",
    "filtro_2doSem = filtro_2doSem.groupby(['legajo'])['Importe'].mean().reset_index()\n",
    "    \n",
    "#renombro las columnas para poder luego unir los df segun el legajo y determino si esta gravado o exento \n",
    "SAC_1erSem =  filtro_1erSem.rename(columns={'Importe':'Prom_SAC_1erSem'})\n",
    "SAC_1erSem[\"Sit_1er_Sem\"] = np.where(SAC_1erSem[\"Prom_SAC_1erSem\"] >= 280792, \"Gravado\", \"Exento\")\n",
    "SAC_2doSem =  filtro_2doSem.rename(columns={'Importe':'Prom_SAC_2doSem'})\n",
    "SAC_2doSem[\"Sit_2do_Sem\"] = np.where(SAC_2doSem[\"Prom_SAC_2doSem\"] >= 330000, \"Gravado\", \"Exento\")\n",
    "\n",
    "#hago la union de los dos df con un merge y me traigo los datos de ambas tablas (outer)\n",
    "df_promedios_SAC = pd.merge(SAC_1erSem, SAC_2doSem, on=\"legajo\", how=\"outer\")\n",
    "df_promedios_SAC.to_clipboard()"
   ]
  },
  {
   "cell_type": "code",
   "execution_count": 60,
   "metadata": {},
   "outputs": [],
   "source": [
    "#guardo el archivo junto con el resto de los parquet para luego llamarlo en otro lado \n",
    "df_promedios_SAC.to_parquet('../bases-ganancias-2022/middle/df_promedios_SAC.parquet', compression='brotli')"
   ]
  }
 ],
 "metadata": {
  "kernelspec": {
   "display_name": "Python 3",
   "language": "python",
   "name": "python3"
  },
  "language_info": {
   "codemirror_mode": {
    "name": "ipython",
    "version": 3
   },
   "file_extension": ".py",
   "mimetype": "text/x-python",
   "name": "python",
   "nbconvert_exporter": "python",
   "pygments_lexer": "ipython3",
   "version": "3.10.7"
  },
  "orig_nbformat": 4
 },
 "nbformat": 4,
 "nbformat_minor": 2
}
