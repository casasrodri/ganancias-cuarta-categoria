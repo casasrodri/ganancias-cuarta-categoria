{
 "cells": [
  {
   "cell_type": "code",
   "execution_count": 2,
   "metadata": {},
   "outputs": [
    {
     "ename": "NameError",
     "evalue": "name 'LiquidacionMensualEmpleado' is not defined",
     "output_type": "error",
     "traceback": [
      "\u001b[1;31m---------------------------------------------------------------------------\u001b[0m",
      "\u001b[1;31mNameError\u001b[0m                                 Traceback (most recent call last)",
      "\u001b[1;32mc:\\Users\\mgriffa\\OneDrive - Embotelladora Andina\\Escritorio\\Pau\\Ganancias 2022\\calculo-impuesto-ganancias-GIT\\ganancias-cuarta-categoria\\pruebas.ipynb Cell 1\u001b[0m in \u001b[0;36m<cell line: 5>\u001b[1;34m()\u001b[0m\n\u001b[0;32m      <a href='vscode-notebook-cell:/c%3A/Users/mgriffa/OneDrive%20-%20Embotelladora%20Andina/Escritorio/Pau/Ganancias%202022/calculo-impuesto-ganancias-GIT/ganancias-cuarta-categoria/pruebas.ipynb#W0sZmlsZQ%3D%3D?line=1'>2</a>\u001b[0m \u001b[39mfrom\u001b[39;00m \u001b[39mempleado\u001b[39;00m \u001b[39mimport\u001b[39;00m Empleado\n\u001b[0;32m      <a href='vscode-notebook-cell:/c%3A/Users/mgriffa/OneDrive%20-%20Embotelladora%20Andina/Escritorio/Pau/Ganancias%202022/calculo-impuesto-ganancias-GIT/ganancias-cuarta-categoria/pruebas.ipynb#W0sZmlsZQ%3D%3D?line=3'>4</a>\u001b[0m empleado \u001b[39m=\u001b[39m Empleado(LEGAJO_LUDU)\n\u001b[1;32m----> <a href='vscode-notebook-cell:/c%3A/Users/mgriffa/OneDrive%20-%20Embotelladora%20Andina/Escritorio/Pau/Ganancias%202022/calculo-impuesto-ganancias-GIT/ganancias-cuarta-categoria/pruebas.ipynb#W0sZmlsZQ%3D%3D?line=4'>5</a>\u001b[0m liq \u001b[39m=\u001b[39m LiquidacionMensualEmpleado(empleado, \u001b[39m1\u001b[39m)\n",
      "\u001b[1;31mNameError\u001b[0m: name 'LiquidacionMensualEmpleado' is not defined"
     ]
    }
   ],
   "source": [
    "LEGAJO_LUDU = 6002385\n",
    "from empleado import Empleado\n",
    "\n",
    "empleado = Empleado(LEGAJO_LUDU)\n",
    "liq = LiquidacionMensualEmpleado(empleado, 1)"
   ]
  },
  {
   "cell_type": "code",
   "execution_count": 3,
   "metadata": {},
   "outputs": [
    {
     "data": {
      "text/html": [
       "<div>\n",
       "<style scoped>\n",
       "    .dataframe tbody tr th:only-of-type {\n",
       "        vertical-align: middle;\n",
       "    }\n",
       "\n",
       "    .dataframe tbody tr th {\n",
       "        vertical-align: top;\n",
       "    }\n",
       "\n",
       "    .dataframe thead th {\n",
       "        text-align: right;\n",
       "    }\n",
       "</style>\n",
       "<table border=\"1\" class=\"dataframe\">\n",
       "  <thead>\n",
       "    <tr style=\"text-align: right;\">\n",
       "      <th></th>\n",
       "      <th>index</th>\n",
       "      <th>legajo</th>\n",
       "      <th>CCn</th>\n",
       "      <th>nombre</th>\n",
       "      <th>importe</th>\n",
       "      <th>mes</th>\n",
       "      <th>mes_pago</th>\n",
       "      <th>origen</th>\n",
       "    </tr>\n",
       "  </thead>\n",
       "  <tbody>\n",
       "    <tr>\n",
       "      <th>0</th>\n",
       "      <td>156649</td>\n",
       "      <td>6066825</td>\n",
       "      <td>/V75</td>\n",
       "      <td>Diferencia plus vacacion.</td>\n",
       "      <td>959.33</td>\n",
       "      <td>1</td>\n",
       "      <td>1</td>\n",
       "      <td>cwtr</td>\n",
       "    </tr>\n",
       "    <tr>\n",
       "      <th>1</th>\n",
       "      <td>156680</td>\n",
       "      <td>6066825</td>\n",
       "      <td>4811</td>\n",
       "      <td>Gratific Extra Unica Vez</td>\n",
       "      <td>62352.00</td>\n",
       "      <td>1</td>\n",
       "      <td>1</td>\n",
       "      <td>cwtr</td>\n",
       "    </tr>\n",
       "  </tbody>\n",
       "</table>\n",
       "</div>"
      ],
      "text/plain": [
       "    index   legajo   CCn                     nombre   importe  mes  mes_pago  \\\n",
       "0  156649  6066825  /V75  Diferencia plus vacacion.    959.33    1         1   \n",
       "1  156680  6066825  4811   Gratific Extra Unica Vez  62352.00    1         1   \n",
       "\n",
       "  origen  \n",
       "0   cwtr  \n",
       "1   cwtr  "
      ]
     },
     "metadata": {},
     "output_type": "display_data"
    },
    {
     "data": {
      "text/html": [
       "<div>\n",
       "<style scoped>\n",
       "    .dataframe tbody tr th:only-of-type {\n",
       "        vertical-align: middle;\n",
       "    }\n",
       "\n",
       "    .dataframe tbody tr th {\n",
       "        vertical-align: top;\n",
       "    }\n",
       "\n",
       "    .dataframe thead th {\n",
       "        text-align: right;\n",
       "    }\n",
       "</style>\n",
       "<table border=\"1\" class=\"dataframe\">\n",
       "  <thead>\n",
       "    <tr style=\"text-align: right;\">\n",
       "      <th></th>\n",
       "      <th>index</th>\n",
       "      <th>legajo</th>\n",
       "      <th>CCn</th>\n",
       "      <th>nombre</th>\n",
       "      <th>importe</th>\n",
       "      <th>mes</th>\n",
       "      <th>mes_pago</th>\n",
       "      <th>origen</th>\n",
       "    </tr>\n",
       "  </thead>\n",
       "  <tbody>\n",
       "    <tr>\n",
       "      <th>0</th>\n",
       "      <td>156668</td>\n",
       "      <td>6066825</td>\n",
       "      <td>4012</td>\n",
       "      <td>BAV Extraordinario</td>\n",
       "      <td>276924.76</td>\n",
       "      <td>2</td>\n",
       "      <td>2</td>\n",
       "      <td>cwtr</td>\n",
       "    </tr>\n",
       "  </tbody>\n",
       "</table>\n",
       "</div>"
      ],
      "text/plain": [
       "    index   legajo   CCn              nombre    importe  mes  mes_pago origen\n",
       "0  156668  6066825  4012  BAV Extraordinario  276924.76    2         2   cwtr"
      ]
     },
     "metadata": {},
     "output_type": "display_data"
    },
    {
     "data": {
      "text/html": [
       "<div>\n",
       "<style scoped>\n",
       "    .dataframe tbody tr th:only-of-type {\n",
       "        vertical-align: middle;\n",
       "    }\n",
       "\n",
       "    .dataframe tbody tr th {\n",
       "        vertical-align: top;\n",
       "    }\n",
       "\n",
       "    .dataframe thead th {\n",
       "        text-align: right;\n",
       "    }\n",
       "</style>\n",
       "<table border=\"1\" class=\"dataframe\">\n",
       "  <thead>\n",
       "    <tr style=\"text-align: right;\">\n",
       "      <th></th>\n",
       "      <th>index</th>\n",
       "      <th>legajo</th>\n",
       "      <th>CCn</th>\n",
       "      <th>nombre</th>\n",
       "      <th>importe</th>\n",
       "      <th>mes</th>\n",
       "      <th>mes_pago</th>\n",
       "      <th>origen</th>\n",
       "    </tr>\n",
       "  </thead>\n",
       "  <tbody>\n",
       "    <tr>\n",
       "      <th>0</th>\n",
       "      <td>156662</td>\n",
       "      <td>6066825</td>\n",
       "      <td>1256</td>\n",
       "      <td>Plus por vacaciones</td>\n",
       "      <td>26992.0</td>\n",
       "      <td>11</td>\n",
       "      <td>11</td>\n",
       "      <td>cwtr</td>\n",
       "    </tr>\n",
       "    <tr>\n",
       "      <th>1</th>\n",
       "      <td>156665</td>\n",
       "      <td>6066825</td>\n",
       "      <td>1258</td>\n",
       "      <td>Plus Rem.Var.p/vacaciones</td>\n",
       "      <td>0.0</td>\n",
       "      <td>11</td>\n",
       "      <td>11</td>\n",
       "      <td>cwtr</td>\n",
       "    </tr>\n",
       "  </tbody>\n",
       "</table>\n",
       "</div>"
      ],
      "text/plain": [
       "    index   legajo   CCn                     nombre  importe  mes  mes_pago  \\\n",
       "0  156662  6066825  1256        Plus por vacaciones  26992.0   11        11   \n",
       "1  156665  6066825  1258  Plus Rem.Var.p/vacaciones      0.0   11        11   \n",
       "\n",
       "  origen  \n",
       "0   cwtr  \n",
       "1   cwtr  "
      ]
     },
     "metadata": {},
     "output_type": "display_data"
    },
    {
     "data": {
      "text/html": [
       "<div>\n",
       "<style scoped>\n",
       "    .dataframe tbody tr th:only-of-type {\n",
       "        vertical-align: middle;\n",
       "    }\n",
       "\n",
       "    .dataframe tbody tr th {\n",
       "        vertical-align: top;\n",
       "    }\n",
       "\n",
       "    .dataframe thead th {\n",
       "        text-align: right;\n",
       "    }\n",
       "</style>\n",
       "<table border=\"1\" class=\"dataframe\">\n",
       "  <thead>\n",
       "    <tr style=\"text-align: right;\">\n",
       "      <th></th>\n",
       "      <th>index</th>\n",
       "      <th>legajo</th>\n",
       "      <th>CCn</th>\n",
       "      <th>nombre</th>\n",
       "      <th>importe</th>\n",
       "      <th>mes</th>\n",
       "      <th>mes_pago</th>\n",
       "      <th>origen</th>\n",
       "    </tr>\n",
       "  </thead>\n",
       "  <tbody>\n",
       "  </tbody>\n",
       "</table>\n",
       "</div>"
      ],
      "text/plain": [
       "Empty DataFrame\n",
       "Columns: [index, legajo, CCn, nombre, importe, mes, mes_pago, origen]\n",
       "Index: []"
      ]
     },
     "metadata": {},
     "output_type": "display_data"
    }
   ],
   "source": [
    "from remuneraciones.prorrateos import Prorrateos\n",
    "pror = Prorrateos()\n",
    "\n",
    "display(pror.filtrar(6066825, 1, 'cwtr'))\n",
    "display(pror.filtrar(6066825, 2, 'cwtr'))\n",
    "display(pror.filtrar(6066825, 11, 'cwtr'))\n",
    "\n",
    "display(pror.filtrar(6066825, 11, 'calculado'))"
   ]
  },
  {
   "cell_type": "code",
   "execution_count": 4,
   "metadata": {},
   "outputs": [
    {
     "data": {
      "text/plain": [
       "74430.0"
      ]
     },
     "execution_count": 4,
     "metadata": {},
     "output_type": "execute_result"
    }
   ],
   "source": [
    "from deducciones.incremental.tablas_tramo2 import TablasTramo2\n",
    "\n",
    "tabla_tramo2 = TablasTramo2()\n",
    "tabla_tramo2.deduccion(mes=12, sueldo=370000)"
   ]
  },
  {
   "cell_type": "code",
   "execution_count": 5,
   "metadata": {},
   "outputs": [
    {
     "ename": "ImportError",
     "evalue": "cannot import name 'EMPLEADOS' from 'data' (c:\\Users\\mgriffa\\OneDrive - Embotelladora Andina\\Escritorio\\Pau\\Ganancias 2022\\calculo-impuesto-ganancias-GIT\\ganancias-cuarta-categoria\\data.py)",
     "output_type": "error",
     "traceback": [
      "\u001b[1;31m---------------------------------------------------------------------------\u001b[0m",
      "\u001b[1;31mImportError\u001b[0m                               Traceback (most recent call last)",
      "\u001b[1;32mc:\\Users\\mgriffa\\OneDrive - Embotelladora Andina\\Escritorio\\Pau\\Ganancias 2022\\calculo-impuesto-ganancias-GIT\\ganancias-cuarta-categoria\\pruebas.ipynb Cell 4\u001b[0m in \u001b[0;36m<cell line: 1>\u001b[1;34m()\u001b[0m\n\u001b[1;32m----> <a href='vscode-notebook-cell:/c%3A/Users/mgriffa/OneDrive%20-%20Embotelladora%20Andina/Escritorio/Pau/Ganancias%202022/calculo-impuesto-ganancias-GIT/ganancias-cuarta-categoria/pruebas.ipynb#W3sZmlsZQ%3D%3D?line=0'>1</a>\u001b[0m \u001b[39mfrom\u001b[39;00m \u001b[39mdata\u001b[39;00m \u001b[39mimport\u001b[39;00m EMPLEADOS\n\u001b[0;32m      <a href='vscode-notebook-cell:/c%3A/Users/mgriffa/OneDrive%20-%20Embotelladora%20Andina/Escritorio/Pau/Ganancias%202022/calculo-impuesto-ganancias-GIT/ganancias-cuarta-categoria/pruebas.ipynb#W3sZmlsZQ%3D%3D?line=1'>2</a>\u001b[0m \u001b[39mfrom\u001b[39;00m \u001b[39mempleado\u001b[39;00m \u001b[39mimport\u001b[39;00m Empleado\n\u001b[0;32m      <a href='vscode-notebook-cell:/c%3A/Users/mgriffa/OneDrive%20-%20Embotelladora%20Andina/Escritorio/Pau/Ganancias%202022/calculo-impuesto-ganancias-GIT/ganancias-cuarta-categoria/pruebas.ipynb#W3sZmlsZQ%3D%3D?line=3'>4</a>\u001b[0m \u001b[39mfrom\u001b[39;00m \u001b[39mdeducciones\u001b[39;00m\u001b[39m.\u001b[39;00m\u001b[39mincremental\u001b[39;00m\u001b[39m.\u001b[39;00m\u001b[39mcalculo\u001b[39;00m \u001b[39mimport\u001b[39;00m DeduccionEspecial \u001b[39mas\u001b[39;00m de\n",
      "\u001b[1;31mImportError\u001b[0m: cannot import name 'EMPLEADOS' from 'data' (c:\\Users\\mgriffa\\OneDrive - Embotelladora Andina\\Escritorio\\Pau\\Ganancias 2022\\calculo-impuesto-ganancias-GIT\\ganancias-cuarta-categoria\\data.py)"
     ]
    }
   ],
   "source": [
    "from data import EMPLEADOS\n",
    "from empleado import Empleado\n",
    "\n",
    "from deducciones.incremental.calculo import DeduccionEspecial as de\n",
    "\n",
    "for legajo in EMPLEADOS:\n",
    "    emp = Empleado(legajo)\n",
    "    # print(emp)\n",
    "\n",
    "    tramos = []\n",
    "    for i in range(1,13):\n",
    "        tramos.append(de.obtener_tramo(emp, i))\n",
    "    \n",
    "    print(tramos)\n",
    "\n",
    "    # ESTO DEMORA 4 MINUTOS"
   ]
  },
  {
   "cell_type": "code",
   "execution_count": 6,
   "metadata": {},
   "outputs": [
    {
     "name": "stdout",
     "output_type": "stream",
     "text": [
      "< Empleado - 6001443 - PALACIOS,DANIEL ALEJANDRO >\n"
     ]
    },
    {
     "data": {
      "text/html": [
       "<div>\n",
       "<style scoped>\n",
       "    .dataframe tbody tr th:only-of-type {\n",
       "        vertical-align: middle;\n",
       "    }\n",
       "\n",
       "    .dataframe tbody tr th {\n",
       "        vertical-align: top;\n",
       "    }\n",
       "\n",
       "    .dataframe thead th {\n",
       "        text-align: right;\n",
       "    }\n",
       "</style>\n",
       "<table border=\"1\" class=\"dataframe\">\n",
       "  <thead>\n",
       "    <tr style=\"text-align: right;\">\n",
       "      <th></th>\n",
       "      <th>legajo</th>\n",
       "      <th>mes</th>\n",
       "      <th>BaseTramos</th>\n",
       "    </tr>\n",
       "  </thead>\n",
       "  <tbody>\n",
       "    <tr>\n",
       "      <th>5304</th>\n",
       "      <td>6001443</td>\n",
       "      <td>1</td>\n",
       "      <td>252285.83</td>\n",
       "    </tr>\n",
       "    <tr>\n",
       "      <th>5305</th>\n",
       "      <td>6001443</td>\n",
       "      <td>2</td>\n",
       "      <td>305189.41</td>\n",
       "    </tr>\n",
       "    <tr>\n",
       "      <th>5306</th>\n",
       "      <td>6001443</td>\n",
       "      <td>3</td>\n",
       "      <td>334005.84</td>\n",
       "    </tr>\n",
       "    <tr>\n",
       "      <th>5307</th>\n",
       "      <td>6001443</td>\n",
       "      <td>4</td>\n",
       "      <td>0.00</td>\n",
       "    </tr>\n",
       "    <tr>\n",
       "      <th>5308</th>\n",
       "      <td>6001443</td>\n",
       "      <td>5</td>\n",
       "      <td>0.00</td>\n",
       "    </tr>\n",
       "    <tr>\n",
       "      <th>5309</th>\n",
       "      <td>6001443</td>\n",
       "      <td>6</td>\n",
       "      <td>0.00</td>\n",
       "    </tr>\n",
       "    <tr>\n",
       "      <th>5310</th>\n",
       "      <td>6001443</td>\n",
       "      <td>7</td>\n",
       "      <td>0.00</td>\n",
       "    </tr>\n",
       "    <tr>\n",
       "      <th>5311</th>\n",
       "      <td>6001443</td>\n",
       "      <td>8</td>\n",
       "      <td>0.00</td>\n",
       "    </tr>\n",
       "    <tr>\n",
       "      <th>5312</th>\n",
       "      <td>6001443</td>\n",
       "      <td>9</td>\n",
       "      <td>305936.94</td>\n",
       "    </tr>\n",
       "    <tr>\n",
       "      <th>5313</th>\n",
       "      <td>6001443</td>\n",
       "      <td>10</td>\n",
       "      <td>453812.27</td>\n",
       "    </tr>\n",
       "    <tr>\n",
       "      <th>5314</th>\n",
       "      <td>6001443</td>\n",
       "      <td>11</td>\n",
       "      <td>559374.66</td>\n",
       "    </tr>\n",
       "    <tr>\n",
       "      <th>5315</th>\n",
       "      <td>6001443</td>\n",
       "      <td>12</td>\n",
       "      <td>498656.80</td>\n",
       "    </tr>\n",
       "  </tbody>\n",
       "</table>\n",
       "</div>"
      ],
      "text/plain": [
       "       legajo  mes  BaseTramos\n",
       "5304  6001443    1   252285.83\n",
       "5305  6001443    2   305189.41\n",
       "5306  6001443    3   334005.84\n",
       "5307  6001443    4        0.00\n",
       "5308  6001443    5        0.00\n",
       "5309  6001443    6        0.00\n",
       "5310  6001443    7        0.00\n",
       "5311  6001443    8        0.00\n",
       "5312  6001443    9   305936.94\n",
       "5313  6001443   10   453812.27\n",
       "5314  6001443   11   559374.66\n",
       "5315  6001443   12   498656.80"
      ]
     },
     "execution_count": 6,
     "metadata": {},
     "output_type": "execute_result"
    }
   ],
   "source": [
    "PALACIOS = 6001443\n",
    "\n",
    "from empleado import Empleado\n",
    "\n",
    "emp = Empleado(PALACIOS)\n",
    "print(emp)\n",
    "\n",
    "from deducciones.incremental.calculo import BASES_DEDUC_INCREM\n",
    "\n",
    "BASES_DEDUC_INCREM[BASES_DEDUC_INCREM['legajo'].eq(PALACIOS)]"
   ]
  },
  {
   "cell_type": "code",
   "execution_count": 9,
   "metadata": {},
   "outputs": [
    {
     "name": "stdout",
     "output_type": "stream",
     "text": [
      "1\n",
      "3\n",
      "1\n",
      "1\n",
      "1\n",
      "1\n",
      "1\n",
      "1\n",
      "1\n",
      "1\n",
      "1\n",
      "2\n"
     ]
    }
   ],
   "source": [
    "PALACIOS = 6001443\n",
    "\n",
    "from deducciones.incremental.calculo import *\n",
    "import empleado as ee\n",
    "PAU = 6066825\n",
    "emp = ee.Empleado(PAU)\n",
    "\n",
    "for m in range(1,13):\n",
    "    print(DeduccionEspecial.obtener_tramo(emp, m))"
   ]
  },
  {
   "cell_type": "code",
   "execution_count": null,
   "metadata": {},
   "outputs": [],
   "source": []
  }
 ],
 "metadata": {
  "kernelspec": {
   "display_name": "Python 3",
   "language": "python",
   "name": "python3"
  },
  "language_info": {
   "codemirror_mode": {
    "name": "ipython",
    "version": 3
   },
   "file_extension": ".py",
   "mimetype": "text/x-python",
   "name": "python",
   "nbconvert_exporter": "python",
   "pygments_lexer": "ipython3",
   "version": "3.10.7"
  },
  "orig_nbformat": 4,
  "vscode": {
   "interpreter": {
    "hash": "cf96b071f30a396d8273bc9670241b6b166737f53a0dff988ecce5da7654d899"
   }
  }
 },
 "nbformat": 4,
 "nbformat_minor": 2
}
