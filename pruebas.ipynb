{
 "cells": [
  {
   "cell_type": "code",
   "execution_count": null,
   "metadata": {},
   "outputs": [],
   "source": [
    "LEGAJO_LUDU = 6002385\n",
    "from empleado import Empleado\n",
    "\n",
    "empleado = Empleado(LEGAJO_LUDU)\n",
    "liq = LiquidacionMensualEmpleado(empleado, 1)"
   ]
  },
  {
   "cell_type": "code",
   "execution_count": null,
   "metadata": {},
   "outputs": [],
   "source": [
    "from remuneraciones.prorrateos import Prorrateos\n",
    "pror = Prorrateos()\n",
    "\n",
    "display(pror.filtrar(6066825, 1, 'cwtr'))\n",
    "display(pror.filtrar(6066825, 2, 'cwtr'))\n",
    "display(pror.filtrar(6066825, 11, 'cwtr'))\n",
    "\n",
    "display(pror.filtrar(6066825, 11, 'calculado'))"
   ]
  },
  {
   "cell_type": "code",
   "execution_count": null,
   "metadata": {},
   "outputs": [],
   "source": [
    "from deducciones.incremental.tablas_tramo2 import TablasTramo2\n",
    "\n",
    "tabla_tramo2 = TablasTramo2()\n",
    "tabla_tramo2.deduccion(mes=1, sueldo=260220)"
   ]
  },
  {
   "cell_type": "code",
   "execution_count": null,
   "metadata": {},
   "outputs": [],
   "source": [
    "from data import EMPLEADOS\n",
    "from empleado import Empleado\n",
    "\n",
    "from deducciones.incremental.calculo import DeduccionEspecial as de\n",
    "\n",
    "for legajo in EMPLEADOS:\n",
    "    emp = Empleado(legajo)\n",
    "    # print(emp)\n",
    "\n",
    "    tramos = []\n",
    "    for i in range(1,13):\n",
    "        tramos.append(de.obtener_tramo(emp, i))\n",
    "    \n",
    "    # print(tramos)\n",
    "\n",
    "    # ESTO DEMORA 4 MINUTOS"
   ]
  },
  {
   "cell_type": "code",
   "execution_count": null,
   "metadata": {},
   "outputs": [],
   "source": [
    "PALACIOS = 6001443\n",
    "\n",
    "from empleado import Empleado\n",
    "\n",
    "emp = Empleado(PALACIOS)\n",
    "print(emp)\n",
    "\n",
    "from deducciones.incremental.calculo import BASES_DEDUC_INCREM\n",
    "\n",
    "BASES_DEDUC_INCREM[BASES_DEDUC_INCREM['legajo'].eq(PALACIOS)]"
   ]
  },
  {
   "cell_type": "code",
   "execution_count": null,
   "metadata": {},
   "outputs": [],
   "source": [
    "PALACIOS = 6001443\n",
    "\n",
    "import remuneraciones.prorrateos as p\n",
    "from helpers.bases import tabla\n",
    "pro = p.Prorrateos()\n",
    "print(pro)"
   ]
  },
  {
   "cell_type": "code",
   "execution_count": null,
   "metadata": {},
   "outputs": [],
   "source": [
    "# TODO Deducciones -> incremental -> calculo"
   ]
  }
 ],
 "metadata": {
  "kernelspec": {
   "display_name": "Python 3",
   "language": "python",
   "name": "python3"
  },
  "language_info": {
   "codemirror_mode": {
    "name": "ipython",
    "version": 3
   },
   "file_extension": ".py",
   "mimetype": "text/x-python",
   "name": "python",
   "nbconvert_exporter": "python",
   "pygments_lexer": "ipython3",
   "version": "3.10.10"
  },
  "orig_nbformat": 4,
  "vscode": {
   "interpreter": {
    "hash": "02853eac302a45b80d502372a0b1bec738477d0caf68ac912d432861e73ecb27"
   }
  }
 },
 "nbformat": 4,
 "nbformat_minor": 2
}
