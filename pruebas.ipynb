{
 "cells": [
  {
   "cell_type": "code",
   "execution_count": null,
   "metadata": {},
   "outputs": [],
   "source": [
    "LEGAJO_LUDU = 6002385\n",
    "from empleado import Empleado\n",
    "\n",
    "empleado = Empleado(LEGAJO_LUDU)\n",
    "liq = LiquidacionMensualEmpleado(empleado, 1)"
   ]
  },
  {
   "cell_type": "code",
   "execution_count": null,
   "metadata": {},
   "outputs": [],
   "source": [
    "from remuneraciones.prorrateos import Prorrateos\n",
    "pror = Prorrateos()\n",
    "\n",
    "display(pror.filtrar(6066825, 1, 'cwtr'))\n",
    "display(pror.filtrar(6066825, 2, 'cwtr'))\n",
    "display(pror.filtrar(6066825, 11, 'cwtr'))\n",
    "\n",
    "display(pror.filtrar(6066825, 11, 'calculado'))"
   ]
  },
  {
   "cell_type": "code",
   "execution_count": null,
   "metadata": {},
   "outputs": [],
   "source": [
    "from deducciones.incremental.tablas_tramo2 import TablasTramo2\n",
    "\n",
    "tabla_tramo2 = TablasTramo2()\n",
    "tabla_tramo2.deduccion(1, 260220)"
   ]
  },
  {
   "cell_type": "code",
   "execution_count": null,
   "metadata": {},
   "outputs": [],
   "source": [
    "LEGAJO_PAU = 6066825\n",
    "LEGAJO_LUDU = 6002385\n",
    "PALACIOS = 6001443\n",
    "\n",
    "from empleado import Empleado\n",
    "\n",
    "emp = Empleado(PALACIOS)\n",
    "print(emp.__dict__)\n",
    "\n",
    "from deducciones.incremental.calculo import DeduccionEspecial as de\n",
    "\n",
    "de.obtener_tramo(emp, 4)  # FIX\n",
    "\n",
    "for i in range(1,13):\n",
    "    print(f\"Mes: {i}\")\n",
    "    print(de.obtener_tramo(emp, i))"
   ]
  },
  {
   "cell_type": "code",
   "execution_count": null,
   "metadata": {},
   "outputs": [],
   "source": [
    "from data import EMPLEADOS\n",
    "from empleado import Empleado\n",
    "\n",
    "from deducciones.incremental.calculo import DeduccionEspecial as de\n",
    "\n",
    "for legajo in EMPLEADOS:\n",
    "    emp = Empleado(legajo)\n",
    "    print(emp)\n",
    "\n",
    "    tramos = []\n",
    "    for i in range(1,13):\n",
    "        tramos.append(de.obtener_tramo(emp, i))\n",
    "    \n",
    "    print(tramos)"
   ]
  }
 ],
 "metadata": {
  "kernelspec": {
   "display_name": "Python 3",
   "language": "python",
   "name": "python3"
  },
  "language_info": {
   "codemirror_mode": {
    "name": "ipython",
    "version": 3
   },
   "file_extension": ".py",
   "mimetype": "text/x-python",
   "name": "python",
   "nbconvert_exporter": "python",
   "pygments_lexer": "ipython3",
   "version": "3.10.10"
  },
  "orig_nbformat": 4,
  "vscode": {
   "interpreter": {
    "hash": "26de051ba29f2982a8de78e945f0abaf191376122a1563185a90213a26c5da77"
   }
  }
 },
 "nbformat": 4,
 "nbformat_minor": 2
}
