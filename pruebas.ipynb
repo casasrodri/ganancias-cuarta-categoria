{
 "cells": [
  {
   "cell_type": "code",
   "execution_count": null,
   "metadata": {},
   "outputs": [],
   "source": [
    "LEGAJO_LUDU = 6002385\n",
    "from empleado import Empleado\n",
    "\n",
    "empleado = Empleado(LEGAJO_LUDU)\n",
    "liq = LiquidacionMensualEmpleado(empleado, 1)"
   ]
  },
  {
   "cell_type": "code",
   "execution_count": null,
   "metadata": {},
   "outputs": [],
   "source": [
    "from remuneraciones.prorrateos import Prorrateos\n",
    "pror = Prorrateos()\n",
    "\n",
    "display(pror.filtrar(6066825, 1, 'cwtr'))\n",
    "display(pror.filtrar(6066825, 2, 'cwtr'))\n",
    "display(pror.filtrar(6066825, 11, 'cwtr'))\n",
    "\n",
    "display(pror.filtrar(6066825, 11, 'calculado'))"
   ]
  },
  {
   "cell_type": "code",
   "execution_count": 3,
   "metadata": {},
   "outputs": [
    {
     "data": {
      "text/plain": [
       "473.0"
      ]
     },
     "execution_count": 3,
     "metadata": {},
     "output_type": "execute_result"
    }
   ],
   "source": [
    "from deducciones.incremental.tablas_tramo2 import TablasTramo2\n",
    "\n",
    "tabla_tramo2 = TablasTramo2()\n",
    "tabla_tramo2.deduccion(mes=1, sueldo=260220)"
   ]
  },
  {
   "cell_type": "code",
   "execution_count": 6,
   "metadata": {},
   "outputs": [],
   "source": [
    "from data import EMPLEADOS\n",
    "from empleado import Empleado\n",
    "\n",
    "from deducciones.incremental.calculo import DeduccionEspecial as de\n",
    "\n",
    "for legajo in EMPLEADOS:\n",
    "    emp = Empleado(legajo)\n",
    "    # print(emp)\n",
    "\n",
    "    tramos = []\n",
    "    for i in range(1,13):\n",
    "        tramos.append(de.obtener_tramo(emp, i))\n",
    "    \n",
    "    # print(tramos)\n",
    "\n",
    "    # ESTO DEMORA 4 MINUTOS"
   ]
  },
  {
   "cell_type": "code",
   "execution_count": 1,
   "metadata": {},
   "outputs": [
    {
     "name": "stdout",
     "output_type": "stream",
     "text": [
      "< Empleado - 6001443 - PALACIOS DANIEL ALEJANDRO >\n"
     ]
    },
    {
     "data": {
      "text/html": [
       "<div>\n",
       "<style scoped>\n",
       "    .dataframe tbody tr th:only-of-type {\n",
       "        vertical-align: middle;\n",
       "    }\n",
       "\n",
       "    .dataframe tbody tr th {\n",
       "        vertical-align: top;\n",
       "    }\n",
       "\n",
       "    .dataframe thead th {\n",
       "        text-align: right;\n",
       "    }\n",
       "</style>\n",
       "<table border=\"1\" class=\"dataframe\">\n",
       "  <thead>\n",
       "    <tr style=\"text-align: right;\">\n",
       "      <th></th>\n",
       "      <th>legajo</th>\n",
       "      <th>mes</th>\n",
       "      <th>BaseDeducIncrem</th>\n",
       "    </tr>\n",
       "  </thead>\n",
       "  <tbody>\n",
       "    <tr>\n",
       "      <th>5304</th>\n",
       "      <td>6001443</td>\n",
       "      <td>1</td>\n",
       "      <td>240220.37</td>\n",
       "    </tr>\n",
       "    <tr>\n",
       "      <th>5305</th>\n",
       "      <td>6001443</td>\n",
       "      <td>2</td>\n",
       "      <td>286117.61</td>\n",
       "    </tr>\n",
       "    <tr>\n",
       "      <th>5306</th>\n",
       "      <td>6001443</td>\n",
       "      <td>3</td>\n",
       "      <td>317364.80</td>\n",
       "    </tr>\n",
       "    <tr>\n",
       "      <th>5307</th>\n",
       "      <td>6001443</td>\n",
       "      <td>4</td>\n",
       "      <td>0.00</td>\n",
       "    </tr>\n",
       "    <tr>\n",
       "      <th>5308</th>\n",
       "      <td>6001443</td>\n",
       "      <td>5</td>\n",
       "      <td>0.00</td>\n",
       "    </tr>\n",
       "    <tr>\n",
       "      <th>5309</th>\n",
       "      <td>6001443</td>\n",
       "      <td>6</td>\n",
       "      <td>0.00</td>\n",
       "    </tr>\n",
       "    <tr>\n",
       "      <th>5310</th>\n",
       "      <td>6001443</td>\n",
       "      <td>7</td>\n",
       "      <td>0.00</td>\n",
       "    </tr>\n",
       "    <tr>\n",
       "      <th>5311</th>\n",
       "      <td>6001443</td>\n",
       "      <td>8</td>\n",
       "      <td>0.00</td>\n",
       "    </tr>\n",
       "    <tr>\n",
       "      <th>5312</th>\n",
       "      <td>6001443</td>\n",
       "      <td>9</td>\n",
       "      <td>289880.42</td>\n",
       "    </tr>\n",
       "    <tr>\n",
       "      <th>5313</th>\n",
       "      <td>6001443</td>\n",
       "      <td>10</td>\n",
       "      <td>431503.36</td>\n",
       "    </tr>\n",
       "    <tr>\n",
       "      <th>5314</th>\n",
       "      <td>6001443</td>\n",
       "      <td>11</td>\n",
       "      <td>527579.36</td>\n",
       "    </tr>\n",
       "    <tr>\n",
       "      <th>5315</th>\n",
       "      <td>6001443</td>\n",
       "      <td>12</td>\n",
       "      <td>476396.81</td>\n",
       "    </tr>\n",
       "  </tbody>\n",
       "</table>\n",
       "</div>"
      ],
      "text/plain": [
       "       legajo  mes  BaseDeducIncrem\n",
       "5304  6001443    1        240220.37\n",
       "5305  6001443    2        286117.61\n",
       "5306  6001443    3        317364.80\n",
       "5307  6001443    4             0.00\n",
       "5308  6001443    5             0.00\n",
       "5309  6001443    6             0.00\n",
       "5310  6001443    7             0.00\n",
       "5311  6001443    8             0.00\n",
       "5312  6001443    9        289880.42\n",
       "5313  6001443   10        431503.36\n",
       "5314  6001443   11        527579.36\n",
       "5315  6001443   12        476396.81"
      ]
     },
     "execution_count": 1,
     "metadata": {},
     "output_type": "execute_result"
    }
   ],
   "source": [
    "PALACIOS = 6001443\n",
    "\n",
    "from empleado import Empleado\n",
    "\n",
    "emp = Empleado(PALACIOS)\n",
    "print(emp)\n",
    "\n",
    "from deducciones.incremental.calculo import BASES_DEDUC_INCREM\n",
    "\n",
    "BASES_DEDUC_INCREM[BASES_DEDUC_INCREM['legajo'].eq(PALACIOS)]"
   ]
  },
  {
   "cell_type": "code",
   "execution_count": 10,
   "metadata": {},
   "outputs": [
    {
     "data": {
      "text/plain": [
       "85812.0"
      ]
     },
     "execution_count": 10,
     "metadata": {},
     "output_type": "execute_result"
    }
   ],
   "source": [
    "PALACIOS = 6001443\n",
    "\n",
    "# import remuneraciones.prorrateos as p\n",
    "# pro = p.Prorrateos()\n",
    "# print(pro)\n",
    "# TODO revisar cuando tenga los conceptos\n",
    "\n",
    "\n",
    "# ANTES REVISAR EL SCRIPT DE PARAMETRIZACION\n",
    "\n",
    "import parametrizacion.conceptos as con\n",
    "# TODO -> conceptos ---> armar excel...\n",
    "\n",
    "# TODO Deducciones -> incremental -> calculo"
   ]
  }
 ],
 "metadata": {
  "kernelspec": {
   "display_name": "Python 3",
   "language": "python",
   "name": "python3"
  },
  "language_info": {
   "codemirror_mode": {
    "name": "ipython",
    "version": 3
   },
   "file_extension": ".py",
   "mimetype": "text/x-python",
   "name": "python",
   "nbconvert_exporter": "python",
   "pygments_lexer": "ipython3",
   "version": "3.10.10"
  },
  "orig_nbformat": 4,
  "vscode": {
   "interpreter": {
    "hash": "02853eac302a45b80d502372a0b1bec738477d0caf68ac912d432861e73ecb27"
   }
  }
 },
 "nbformat": 4,
 "nbformat_minor": 2
}
